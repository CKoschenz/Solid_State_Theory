{
 "cells": [
  {
   "cell_type": "code",
   "execution_count": null,
   "metadata": {
    "nbpresent": {
     "id": "4679e64d-22f3-42e9-a29c-da69f48bfc80"
    },
    "slideshow": {
     "slide_type": "skip"
    }
   },
   "outputs": [],
   "source": [
    "import numpy as np\n",
    "import numpy.linalg\n",
    "import scipy as sc\n",
    "from scipy.optimize import minimize_scalar, minimize\n",
    "from scipy.misc import derivative\n",
    "import matplotlib.pyplot as plt\n",
    "plt.rcParams['figure.figsize'] = (8,10)\n",
    "from matplotlib import cm\n",
    "from mpl_toolkits.mplot3d import Axes3D\n",
    "from IPython.display import display, HTML\n",
    "from IPython.display import Image, SVG\n",
    "import time\n",
    "%matplotlib notebook\n",
    "#%matplotlib inline\n",
    "%load_ext tikzmagic\n",
    "#import tikzmagic\n",
    "#https://github.com/mkrphys/ipython-tikzmagic\n",
    "#http://blog.invibe.net/posts/2015-01-20-using-tikzmagic.html\n",
    "#https://stackoverflow.com/questions/45671481/how-do-i-center-the-outputs-on-a-python-jupyter-notebook\n",
    "display(HTML(\"\"\"\n",
    "<style>\n",
    ".output {\n",
    "    display: flex;\n",
    "    align-items: center;\n",
    "    text-align: center;\n",
    "}\n",
    "</style>\n",
    "\"\"\"))\n",
    "#print(sc.__version__)\n",
    "#print(numpy.__version__)"
   ]
  },
  {
   "cell_type": "markdown",
   "metadata": {
    "nbpresent": {
     "id": "c08f9409-4564-44d4-8b00-63612cbc9172"
    },
    "slideshow": {
     "slide_type": "slide"
    }
   },
   "source": [
    "# <center>CMT Seminar</center>\n",
    "## <center>The Variational Principle in Mean Field Theories <br> - Example of the Antiferromagnetic Ising Model -</center>"
   ]
  },
  {
   "cell_type": "markdown",
   "metadata": {
    "slideshow": {
     "slide_type": "slide"
    }
   },
   "source": [
    "## The Antiferromagnetic Ising Model"
   ]
  },
  {
   "cell_type": "markdown",
   "metadata": {
    "slideshow": {
     "slide_type": "-"
    }
   },
   "source": [
    "\\begin{equation}\n",
    "\\hat{H} = J\\sum_{\\left<ij\\right>} \\hat{\\sigma}_{i}\\hat{\\sigma}_{j} \n",
    "\\end{equation}\n",
    "\n",
    "\n",
    "We set $J=1$ and $k_B = 1$."
   ]
  },
  {
   "cell_type": "markdown",
   "metadata": {
    "slideshow": {
     "slide_type": "subslide"
    }
   },
   "source": [
    "### 2-Site Unit Cell"
   ]
  },
  {
   "cell_type": "code",
   "execution_count": null,
   "metadata": {
    "hide_input": true,
    "slideshow": {
     "slide_type": "-"
    }
   },
   "outputs": [],
   "source": [
    "%%tikz -f png -s 800,500 -sc 1.2\n",
    "\\tikzset{>=stealth,font=\\Large};\n",
    "\\draw [line width=0.5mm, fill=blue!20]\t(+3,+1)\trectangle\t(+5,+5);\n",
    "\\draw [style=help lines, step=2]\t\t\t\t(-1,-1)\tgrid\t\t(+9,+7);\n",
    " \n",
    "\\filldraw [color=gray]\t(0,0) circle (.1);\n",
    "\\filldraw [color=gray]\t(0,2) circle (.1);\n",
    "\\filldraw [color=gray]\t(0,4) circle (.1);\n",
    "\\filldraw [color=gray]\t(0,6) circle (.1);\n",
    "\n",
    "\\filldraw [color=gray]\t(2,0) circle (.1);\n",
    "\\filldraw [color=gray]\t(2,2) circle (.1);\n",
    "\\filldraw [color=gray]\t(2,4) circle (.1);\n",
    "\\filldraw [color=gray]\t(2,6) circle (.1);\n",
    "\n",
    "\\filldraw [color=gray]\t(4,0) circle (.1);\n",
    "\\filldraw [color=black]\t(4,2) circle (.1);\n",
    "\\filldraw [color=black]\t(4,4) circle (.1);\n",
    "\\filldraw [color=gray]\t(4,6) circle (.1);\n",
    "\n",
    "\\filldraw [color=gray]\t(6,0) circle (.1);\n",
    "\\filldraw [color=gray]\t(6,2) circle (.1);\n",
    "\\filldraw [color=gray]\t(6,4) circle (.1);\n",
    "\\filldraw [color=gray]\t(6,6) circle (.1);\n",
    "\n",
    "\\filldraw [color=gray]\t(8,0) circle (.1);\n",
    "\\filldraw [color=gray]\t(8,2) circle (.1);\n",
    "\\filldraw [color=gray]\t(8,4) circle (.1);\n",
    "\\filldraw [color=gray]\t(8,6) circle (.1);\n",
    "\n",
    "\\draw [black] ( 4, 2) node[anchor=north] {$\\sigma_{(i,j)_a}$};\n",
    "\\draw ( 4, 4) node[anchor=north] {$\\sigma_{(i,j)_b}$};\n",
    "%\\draw [blue!60!white] (  4,  2) node[anchor=north west] {$(i+1,j  )$};\n",
    "%\\draw [blue!60!white] (  4,  4) node[anchor=south west] {$(i+1,j+1)$};\n",
    "%\\draw [blue!60!white] (  2,  4) node[anchor=south east] {$(i  ,j+1)$};"
   ]
  },
  {
   "cell_type": "markdown",
   "metadata": {
    "slideshow": {
     "slide_type": "slide"
    }
   },
   "source": [
    "## Self-Consistency (Direct Iteration) Procedure"
   ]
  },
  {
   "cell_type": "markdown",
   "metadata": {
    "slideshow": {
     "slide_type": "subslide"
    }
   },
   "source": [
    "### Self-Consistency Equations"
   ]
  },
  {
   "cell_type": "markdown",
   "metadata": {
    "slideshow": {
     "slide_type": "-"
    }
   },
   "source": [
    "\\begin{equation}\n",
    "m_a = \\left< \\hat{\\sigma}_{i\\in a}\\right> = - \\tanh{\\left(\\frac{4 m_b}{T}\\right)}\n",
    "\\end{equation}\n",
    "\\begin{equation}\n",
    "m_b = \\left< \\hat{\\sigma}_{i\\in b}\\right> = - \\tanh{\\left(\\frac{4 m_a}{T}\\right)}\n",
    "\\end{equation}"
   ]
  },
  {
   "cell_type": "code",
   "execution_count": null,
   "metadata": {
    "code_folding": [],
    "slideshow": {
     "slide_type": "-"
    }
   },
   "outputs": [],
   "source": [
    "def ma_SCE(m_b, T):\n",
    "    return( - np.tanh(m_b*4.0/T))\n",
    "\n",
    "def mb_SCE(m_a, T):\n",
    "    return( - np.tanh(m_a*4.0/T))"
   ]
  },
  {
   "cell_type": "markdown",
   "metadata": {
    "slideshow": {
     "slide_type": "subslide"
    }
   },
   "source": [
    "### Direct Iteration - Parameter Declaration/Initialisation"
   ]
  },
  {
   "cell_type": "code",
   "execution_count": null,
   "metadata": {},
   "outputs": [],
   "source": [
    "T = 3.0\n",
    "iter_loopdata_T1 = np.zeros((1,3))\n",
    "\n",
    "m_a_guess = 0.5\n",
    "m_b_guess = -0.5\n",
    "\n",
    "m_a = m_a_guess\n",
    "m_b = m_b_guess\n",
    "\n",
    "iter_max = 100\n",
    "iter_ctr = 0\n",
    "\n",
    "iter_loopdata_T1[0][0] = 0.0\n",
    "iter_loopdata_T1[0][1] = m_a\n",
    "iter_loopdata_T1[0][2] = m_b "
   ]
  },
  {
   "cell_type": "markdown",
   "metadata": {
    "slideshow": {
     "slide_type": "subslide"
    }
   },
   "source": [
    "### Direct Iteration - Loop"
   ]
  },
  {
   "cell_type": "code",
   "execution_count": null,
   "metadata": {
    "slideshow": {
     "slide_type": "-"
    }
   },
   "outputs": [],
   "source": [
    "while iter_ctr < iter_max:\n",
    "\n",
    "    iter_ctr = iter_ctr + 1\n",
    "        \n",
    "    m_b = mb_SCE(m_a,T)\n",
    "    m_a = ma_SCE(m_b,T)\n",
    "        \n",
    "    temp = np.concatenate(([m_a],[m_b]), axis=0)\n",
    "    temp = np.concatenate(([iter_ctr], temp), axis=0)\n",
    "    iter_loopdata_T1 = np.vstack([iter_loopdata_T1,temp])\n",
    "\n",
    "iter_loopdata_T1 = np.delete(iter_loopdata_T1, 0, 0)"
   ]
  },
  {
   "cell_type": "code",
   "execution_count": null,
   "metadata": {
    "slideshow": {
     "slide_type": "skip"
    }
   },
   "outputs": [],
   "source": [
    "T = 4.5\n",
    "iter_loopdata_T2 = np.zeros((1,3))\n",
    "\n",
    "m_a_guess = 0.5\n",
    "m_b_guess = -0.5\n",
    "\n",
    "m_a = m_a_guess\n",
    "m_b = m_b_guess\n",
    "\n",
    "iter_max = 100\n",
    "iter_ctr = 0\n",
    "\n",
    "iter_loopdata_T2[0][0] = 0.0\n",
    "iter_loopdata_T2[0][1] = m_a\n",
    "iter_loopdata_T2[0][2] = m_b\n",
    "\n",
    "while iter_ctr < iter_max:\n",
    "\n",
    "    iter_ctr = iter_ctr + 1\n",
    "        \n",
    "    m_b = mb_SCE(m_a,T)\n",
    "    m_a = ma_SCE(m_b,T)\n",
    "        \n",
    "    temp = np.concatenate(([m_a],[m_b]), axis=0)\n",
    "    temp = np.concatenate(([iter_ctr], temp), axis=0)\n",
    "    iter_loopdata_T2 = np.vstack([iter_loopdata_T2,temp])"
   ]
  },
  {
   "cell_type": "markdown",
   "metadata": {
    "slideshow": {
     "slide_type": "subslide"
    }
   },
   "source": [
    "### Direct Iteration - Results"
   ]
  },
  {
   "cell_type": "code",
   "execution_count": null,
   "metadata": {
    "hide_input": true,
    "slideshow": {
     "slide_type": "-"
    }
   },
   "outputs": [],
   "source": [
    "fig = plt.figure(figsize=(10,5), num=\"Direct Iteration\")\n",
    "ax = fig.add_subplot(2,1,1)\n",
    "\n",
    "ax.set_xlabel('iteration step', fontsize=12)\n",
    "ax.set_ylabel('$m_X$', fontsize=12)\n",
    "ax.set_ylim([-1.0,1.0])\n",
    "\n",
    "plt.title('$T=3$ ($<T_N$)')\n",
    "\n",
    "plt.plot([i[0] for i in iter_loopdata_T1], [i[1] for i in iter_loopdata_T1], color='red', label=\"$m_a$\", linestyle=' ', marker = 'v', markersize=4, linewidth=2.0)\n",
    "plt.plot([i[0] for i in iter_loopdata_T1], [i[2] for i in iter_loopdata_T1], color='blue', label=\"$m_b$\", linestyle=' ', marker = 'o', markersize=4, linewidth=2.0)\n",
    "\n",
    "plt.legend(loc=0, ncol=2)\n",
    "\n",
    "plt.grid(True)\n",
    "\n",
    "ax2 = fig.add_subplot(2,1,2)\n",
    "\n",
    "ax2.set_xlabel('iteration step', fontsize=12)\n",
    "ax2.set_ylabel('$m_X$', fontsize=12)\n",
    "ax2.set_ylim([-1.0,1.0])\n",
    "\n",
    "plt.title('$T=4.5$ ($>T_N$)')\n",
    "\n",
    "plt.plot([i[0] for i in iter_loopdata_T2], [i[1] for i in iter_loopdata_T2], color='red', label=\"$m_a$\", linestyle=' ', marker = 'v', markersize=4, linewidth=1.0)\n",
    "plt.plot([i[0] for i in iter_loopdata_T2], [i[2] for i in iter_loopdata_T2], color='blue', label=\"$m_b$\", linestyle=' ', marker = 'o', markersize=4, linewidth=1.0)\n",
    "\n",
    "plt.legend(loc=0, ncol=2)\n",
    "\n",
    "plt.grid(True)\n",
    "\n",
    "plt.tight_layout()\n",
    "plt.show()\n"
   ]
  },
  {
   "cell_type": "markdown",
   "metadata": {
    "hide_input": false,
    "slideshow": {
     "slide_type": "subslide"
    }
   },
   "source": [
    "### Direct Iteration - Phasediagram"
   ]
  },
  {
   "cell_type": "code",
   "execution_count": null,
   "metadata": {
    "hide_input": false,
    "slideshow": {
     "slide_type": "skip"
    }
   },
   "outputs": [],
   "source": [
    "T_steps = np.linspace(0.5, 6.1, 50, endpoint=True)\n",
    "result_SC = np.zeros((1,3))\n",
    "\n",
    "eps = 1e-8\n",
    "\n",
    "m_a_guess = 1.0\n",
    "m_b_guess = -1.0\n",
    "\n",
    "iter_max = 200\n",
    "iter_ctr = 0\n",
    "\n",
    "conv_boolflag = False\n",
    "\n",
    "m_a = m_a_guess\n",
    "m_b = m_b_guess\n",
    "\n",
    "old_m_a = 10.0\n",
    "old_m_b = 10.0\n",
    "\n",
    "for T_run in T_steps:\n",
    "    \n",
    "    iter_ctr = 0\n",
    "    conv_boolflag = False\n",
    "    \n",
    "    while iter_ctr < iter_max and not conv_boolflag:\n",
    "        iter_ctr = iter_ctr + 1\n",
    "        \n",
    "        m_b = mb_SCE(m_a,T_run)\n",
    "        m_a = ma_SCE(m_b,T_run)\n",
    "\n",
    "        if( abs(m_b - old_m_b) <= eps and abs(m_a - old_m_a) <= eps ):\n",
    "            conv_boolflag = True\n",
    "            break\n",
    "        else:\n",
    "            old_m_a = m_a\n",
    "            old_m_b = m_b\n",
    "\n",
    "    temp = np.concatenate(([m_a],[m_b],[T_run]), axis=0)\n",
    "    result_SC = np.vstack([result_SC,temp])\n",
    "    \n",
    "result_SC = np.delete(result_SC, 0, 0)"
   ]
  },
  {
   "cell_type": "code",
   "execution_count": null,
   "metadata": {
    "hide_input": true,
    "slideshow": {
     "slide_type": "-"
    }
   },
   "outputs": [],
   "source": [
    "fig = plt.figure(figsize=(10,4), num=\"Phasediagram Direct Iteration\")\n",
    "ax = fig.add_subplot(111)\n",
    "\n",
    "ax.set_xlabel('$T$', fontsize=12, fontweight='bold')\n",
    "ax.set_ylabel('$m_X$', fontsize=12, fontweight='bold')\n",
    "ax.set_ylim([-1.5,1.5])\n",
    "\n",
    "plt.plot([i[2] for i in result_SC], [i[0] for i in result_SC], color='red', label=\"$m_a$\", linestyle='--', linewidth=2.0)\n",
    "plt.plot([i[2] for i in result_SC], [i[1] for i in result_SC], color='blue', label=\"$m_b$\", linestyle='--', linewidth=2.0)\n",
    "\n",
    "plt.legend(ncol = 2)\n",
    "\n",
    "plt.grid(True)\n",
    "plt.show()"
   ]
  },
  {
   "cell_type": "markdown",
   "metadata": {
    "slideshow": {
     "slide_type": "slide"
    }
   },
   "source": [
    "## Free Energy Landscape\n",
    "\\begin{equation}\n",
    "\\phi\\left(m_a, m_b\\right) = -2Jm_am_b - \\frac{1}{2\\beta}\\ln{\\left[4\\cosh{(4\\beta Jm_a)}\\cosh{(4\\beta Jm_b)}\\right]}\n",
    "\\end{equation}"
   ]
  },
  {
   "cell_type": "code",
   "execution_count": null,
   "metadata": {
    "slideshow": {
     "slide_type": "-"
    }
   },
   "outputs": [],
   "source": [
    "def Free_Energy_SC(m,T):\n",
    "    m_a = m[0]\n",
    "    m_b = m[1]\n",
    "    return(-2.0*m_a*m_b - 0.5*T*np.log(4.0*np.cosh(m_a*4.0/T)*np.cosh(m_b*4.0/T)) )"
   ]
  },
  {
   "cell_type": "code",
   "execution_count": null,
   "metadata": {
    "slideshow": {
     "slide_type": "skip"
    }
   },
   "outputs": [],
   "source": [
    "def Free_Energy_SC_Lineplot(m_a,T):\n",
    "    m_b = -m_a\n",
    "    return(-2.0*m_a*m_b - 0.5*T*np.log(4.0*np.cosh(m_a*4.0/T)*np.cosh(m_b*4.0/T)) )"
   ]
  },
  {
   "cell_type": "markdown",
   "metadata": {
    "slideshow": {
     "slide_type": "subslide"
    }
   },
   "source": [
    "### Free Energy Landscape Plot T = 3.0"
   ]
  },
  {
   "cell_type": "code",
   "execution_count": null,
   "metadata": {
    "hide_input": true,
    "scrolled": false
   },
   "outputs": [],
   "source": [
    "fig = plt.figure(figsize=(10,4), num=\"T = 3.0\")\n",
    "\n",
    "T = 3.0\n",
    "\n",
    "ax = fig.add_subplot(2, 1, 1, projection='3d')\n",
    "\n",
    "ax.set_title(\"3D\")\n",
    "ax.set_xlabel(\"$m_a$\")\n",
    "ax.set_ylabel(\"$m_b$\")\n",
    "ax.set_zlabel(\"$\\phi(m_a,m_b)$\") \n",
    "ax.set_xticks(np.linspace(-1, 1, 5, endpoint=True))\n",
    "ax.set_yticks(np.linspace(-1, 1, 5, endpoint=True))\n",
    "#ax.set_zticks([-2, 0, 2])\n",
    "\n",
    "m_a = np.linspace(-1.0, 1.0, 30, endpoint=True)\n",
    "m_b = np.linspace(-1.0, 1.0, 30, endpoint=True)\n",
    "m_a, m_b = np.meshgrid(m_a, m_b)\n",
    "FEL = Free_Energy_SC((m_a, m_b),T)\n",
    "\n",
    "surface = ax.plot_surface(m_a, m_b, FEL, cmap=cm.jet, rstride=1, cstride=1,\n",
    "                          linewidth=0, antialiased=False)\n",
    "\n",
    "fig.colorbar(surface, shrink=0.5, aspect=10)\n",
    "\n",
    "ax2 = fig.add_subplot(2, 1, 2)\n",
    "\n",
    "ax2.set_title(\"$m_b = -m_a $\")\n",
    "ax2.set_xlabel(\"$m_a$\")\n",
    "ax2.set_ylabel(\"$\\phi(m_a,-m_a)$\")\n",
    "ax2.grid(True)\n",
    "\n",
    "m_a = np.linspace(-1.0, 1.0, 50, endpoint=True)\n",
    "FEL = Free_Energy_SC_Lineplot(m_a,T)\n",
    "\n",
    "ax2.plot(m_a, FEL, 'bo--')\n",
    "\n",
    "plt.tight_layout()\n",
    "\n",
    "plt.show()"
   ]
  },
  {
   "cell_type": "markdown",
   "metadata": {
    "slideshow": {
     "slide_type": "subslide"
    }
   },
   "source": [
    "### Free Energy Landscape Plot 3D T = 3.0"
   ]
  },
  {
   "cell_type": "code",
   "execution_count": null,
   "metadata": {
    "hide_input": true,
    "scrolled": false
   },
   "outputs": [],
   "source": [
    "fig = plt.figure(figsize=(10,4), num=\"T = 3.0 (only 3D)\")\n",
    "\n",
    "T = 3.0\n",
    "\n",
    "ax = fig.add_subplot(1, 1, 1, projection='3d')\n",
    "\n",
    "ax.set_title(\"3D\")\n",
    "ax.set_xlabel(\"$m_a$\")\n",
    "ax.set_ylabel(\"$m_b$\")\n",
    "ax.set_zlabel(\"$\\phi(m_a,m_b)$\")\n",
    "ax.set_xticks(np.linspace(-1, 1, 5, endpoint=True))\n",
    "ax.set_yticks(np.linspace(-1, 1, 5, endpoint=True))\n",
    "#ax.set_zticks([-2, 0, 2])\n",
    "\n",
    "m_a = np.linspace(-1.0, 1.0, 30, endpoint=True)\n",
    "m_b = np.linspace(-1.0, 1.0, 30, endpoint=True)\n",
    "m_a, m_b = np.meshgrid(m_a, m_b)\n",
    "FEL = Free_Energy_SC((m_a, m_b),T)\n",
    "\n",
    "surface = ax.plot_surface(m_a, m_b, FEL, cmap=cm.jet, rstride=1, cstride=1,\n",
    "                          linewidth=0, antialiased=False)\n",
    "\n",
    "fig.colorbar(surface, shrink=0.5, aspect=10)\n",
    "\n",
    "plt.tight_layout()\n",
    "\n",
    "plt.show()"
   ]
  },
  {
   "cell_type": "markdown",
   "metadata": {
    "slideshow": {
     "slide_type": "subslide"
    }
   },
   "source": [
    "### Free Energy Landscape Plot T = 4.5"
   ]
  },
  {
   "cell_type": "code",
   "execution_count": null,
   "metadata": {
    "hide_input": true
   },
   "outputs": [],
   "source": [
    "fig = plt.figure(figsize=(10,4), num=\"T = 4.5\")\n",
    "\n",
    "T = 4.5\n",
    "\n",
    "ax = fig.add_subplot(2, 1, 1, projection='3d')\n",
    " \n",
    "ax.set_title(\"3D\")\n",
    "ax.set_xlabel(\"$m_a$\")\n",
    "ax.set_ylabel(\"$m_b$\")\n",
    "ax.set_zlabel(\"$\\phi(m_a,m_b)$\")\n",
    "ax.set_xticks(np.linspace(-1, 1, 5, endpoint=True))\n",
    "ax.set_yticks(np.linspace(-1, 1, 5, endpoint=True))\n",
    "#ax.set_zticks([-2, 0, 2])\n",
    "\n",
    "m_a = np.linspace(-1.0, 1.0, 30, endpoint=True)\n",
    "m_b = np.linspace(-1.0, 1.0, 30, endpoint=True)\n",
    "m_a, m_b = np.meshgrid(m_a, m_b)\n",
    "FEL = Free_Energy_SC((m_a, m_b),T)\n",
    "\n",
    "surface = ax.plot_surface(m_a, m_b, FEL, cmap=cm.jet, rstride=1, cstride=1,\n",
    "                          linewidth=0, antialiased=False)\n",
    "\n",
    "fig.colorbar(surface, shrink=0.5, aspect=10)\n",
    "\n",
    "ax2 = fig.add_subplot(2, 1, 2)\n",
    "\n",
    "ax2.set_title(\"$m_b = -m_a $\")\n",
    "ax2.set_xlabel(\"$m_a$\")\n",
    "ax2.set_ylabel(\"$\\phi(m_a,-m_a)$\")\n",
    "ax2.grid(True)\n",
    "\n",
    "m_a = np.linspace(-1.0, 1.0, 50, endpoint=True)\n",
    "FEL = Free_Energy_SC_Lineplot(m_a,T)\n",
    "\n",
    "ax2.plot(m_a, FEL, 'bo--')\n",
    "\n",
    "plt.tight_layout()\n",
    "\n",
    "plt.show()"
   ]
  },
  {
   "cell_type": "markdown",
   "metadata": {
    "slideshow": {
     "slide_type": "subslide"
    }
   },
   "source": [
    "### Free Energy Landscape Plot 3D T = 4.5"
   ]
  },
  {
   "cell_type": "code",
   "execution_count": null,
   "metadata": {
    "hide_input": true
   },
   "outputs": [],
   "source": [
    "fig = plt.figure(figsize=(10,4), num=\"T = 4.5 (only 3D)\")\n",
    "\n",
    "T = 4.5\n",
    "\n",
    "ax = fig.add_subplot(1, 1, 1, projection='3d')\n",
    "\n",
    "ax.set_title(\"3D\")\n",
    "ax.set_xlabel(\"$m_a$\")\n",
    "ax.set_ylabel(\"$m_b$\")\n",
    "ax.set_zlabel(\"$\\phi(m_a,m_b)$\")\n",
    "ax.set_xticks(np.linspace(-1, 1, 5, endpoint=True))\n",
    "ax.set_yticks(np.linspace(-1, 1, 5, endpoint=True))\n",
    "#ax.set_zticks([-2, 0, 2])\n",
    "\n",
    "m_a = np.linspace(-1.0, 1.0, 30, endpoint=True)\n",
    "m_b = np.linspace(-1.0, 1.0, 30, endpoint=True)\n",
    "m_a, m_b = np.meshgrid(m_a, m_b)\n",
    "FEL = Free_Energy_SC((m_a, m_b),T)\n",
    "\n",
    "surface = ax.plot_surface(m_a, m_b, FEL, cmap=cm.jet, rstride=1, cstride=1,\n",
    "                          linewidth=0, antialiased=False)\n",
    "\n",
    "fig.colorbar(surface, shrink=0.5, aspect=10)\n",
    "\n",
    "plt.tight_layout()\n",
    "\n",
    "plt.show()"
   ]
  },
  {
   "cell_type": "markdown",
   "metadata": {
    "nbpresent": {
     "id": "2764f16d-54d0-4332-b28c-c7a4e33a5b68"
    },
    "slideshow": {
     "slide_type": "slide"
    }
   },
   "source": [
    "## Variational Procedure"
   ]
  },
  {
   "cell_type": "markdown",
   "metadata": {
    "slideshow": {
     "slide_type": "subslide"
    }
   },
   "source": [
    "### Landau Functional\n",
    "\\begin{equation}\n",
    "\\begin{split}\n",
    "\\phi\\left(m_a, m_b\\right) = &- \\frac{1}{2\\beta}\\ln{\\left[4\\cosh{(4\\beta Jm_a)}\\cosh{(4\\beta Jm_b)}\\right]}\\\\\n",
    "&+2J\\tanh{(4\\beta J m_a)}\\tanh{(4\\beta J m_b)}\\\\\n",
    "&+2J(m_a\\tanh{(4\\beta J m_a)} + m_b\\tanh{(4\\beta J m_b)}\n",
    "\\end{split}\n",
    "\\end{equation}"
   ]
  },
  {
   "cell_type": "code",
   "execution_count": null,
   "metadata": {
    "slideshow": {
     "slide_type": "-"
    }
   },
   "outputs": [],
   "source": [
    "def Landau_Functional(m, T):\n",
    "    m_a = m[0]\n",
    "    m_b = m[1]\n",
    "    return (-0.5*T*np.log(4.0*np.cosh(m_a*4.0/T)*np.cosh(m_b*4.0/T))\\\n",
    "            +2.0*np.tanh(m_a*4.0/T)*np.tanh(m_b*4.0/T)\\\n",
    "            +2.0*(m_a*np.tanh(m_a*4.0/T) + m_b*np.tanh(m_b*4.0/T)))"
   ]
  },
  {
   "cell_type": "code",
   "execution_count": null,
   "metadata": {
    "slideshow": {
     "slide_type": "skip"
    }
   },
   "outputs": [],
   "source": [
    "def Landau_Functional_Lineplot(m_a, T):\n",
    "    m_b = -m_a\n",
    "    return 0.5*(-T*np.log(4.0*np.cosh(m_a*4.0/T)*np.cosh(m_b*4.0/T))\\\n",
    "                    +4.0*np.tanh(m_a*4.0/T)*np.tanh(m_b*4.0/T)\\\n",
    "                    +4.0*(m_a*np.tanh(m_a*4.0/T) + m_b*np.tanh(m_b*4.0/T)))"
   ]
  },
  {
   "cell_type": "markdown",
   "metadata": {
    "slideshow": {
     "slide_type": "subslide"
    }
   },
   "source": [
    "### Landau Functional Plot T = 3.0"
   ]
  },
  {
   "cell_type": "code",
   "execution_count": null,
   "metadata": {
    "hide_input": true,
    "scrolled": false
   },
   "outputs": [],
   "source": [
    "fig = plt.figure(figsize=(10,4), num=\"Landau Functional T = 3.0\")\n",
    "\n",
    "T = 3.0\n",
    "\n",
    "ax = fig.add_subplot(2, 1, 1, projection='3d')\n",
    "\n",
    "ax.set_title(\"3D\")\n",
    "ax.set_xlabel(\"$m_a$\")\n",
    "ax.set_ylabel(\"$m_b$\")\n",
    "ax.set_zlabel(\"$\\phi(m_a,m_b)$\") \n",
    "ax.set_xticks(np.linspace(-1, 1, 5, endpoint=True))\n",
    "ax.set_yticks(np.linspace(-1, 1, 5, endpoint=True))\n",
    "#ax.set_zticks([-2, 0, 2])\n",
    "\n",
    "m_a = np.linspace(-1.0, 1.0, 30, endpoint=True)\n",
    "m_b = np.linspace(-1.0, 1.0, 30, endpoint=True)\n",
    "m_a, m_b = np.meshgrid(m_a, m_b)\n",
    "LF = Landau_Functional((m_a, m_b),T)\n",
    "\n",
    "surface = ax.plot_surface(m_a, m_b, LF, cmap=cm.jet, rstride=1, cstride=1,\n",
    "                          linewidth=0, antialiased=False)\n",
    "fig.colorbar(surface, shrink=0.5, aspect=10)\n",
    "\n",
    "ax2 = fig.add_subplot(2, 1, 2)\n",
    "\n",
    "ax2.set_title(\"$m_b = -m_a $\")\n",
    "ax2.set_xlabel(\"$m_a$\")\n",
    "ax2.set_ylabel(\"$\\phi(m_a,-m_a)$\")\n",
    "ax2.grid(True)\n",
    "\n",
    "m_a = np.linspace(-1.0, 1.0, 50, endpoint=True)\n",
    "LF = Landau_Functional_Lineplot(m_a,T)\n",
    "\n",
    "ax2.plot(m_a, LF, 'bo--')\n",
    "\n",
    "plt.tight_layout()\n",
    "\n",
    "plt.show()"
   ]
  },
  {
   "cell_type": "markdown",
   "metadata": {
    "slideshow": {
     "slide_type": "subslide"
    }
   },
   "source": [
    "### Landau Functional Plot 3D T = 3.0"
   ]
  },
  {
   "cell_type": "code",
   "execution_count": null,
   "metadata": {
    "hide_input": true,
    "scrolled": false
   },
   "outputs": [],
   "source": [
    "fig = plt.figure(figsize=(10,4), num=\"Landau Functional T = 3.0 (only 3D)\")\n",
    "\n",
    "T = 3.0\n",
    "\n",
    "ax = fig.add_subplot(1, 1, 1, projection='3d')\n",
    "\n",
    "ax.set_title(\"3D\")\n",
    "ax.set_xlabel(\"$m_a$\")\n",
    "ax.set_ylabel(\"$m_b$\")\n",
    "ax.set_zlabel(\"$\\phi(m_a,m_b)$\")\n",
    "ax.set_xticks(np.linspace(-1, 1, 5, endpoint=True))\n",
    "ax.set_yticks(np.linspace(-1, 1, 5, endpoint=True))\n",
    "#ax.set_zticks([-2, 0, 2])\n",
    "\n",
    "m_a = np.linspace(-1.0, 1.0, 30, endpoint=True)\n",
    "m_b = np.linspace(-1.0, 1.0, 30, endpoint=True)\n",
    "m_a, m_b = np.meshgrid(m_a, m_b)\n",
    "LF = Landau_Functional((m_a, m_b),T)\n",
    "\n",
    "surface = ax.plot_surface(m_a, m_b, LF, cmap=cm.jet, rstride=1, cstride=1,\n",
    "                          linewidth=0, antialiased=False)\n",
    "\n",
    "fig.colorbar(surface, shrink=0.5, aspect=10)\n",
    "\n",
    "plt.tight_layout()\n",
    "\n",
    "plt.show()"
   ]
  },
  {
   "cell_type": "markdown",
   "metadata": {
    "slideshow": {
     "slide_type": "subslide"
    }
   },
   "source": [
    "### Landau Functional Plot T = 4.5"
   ]
  },
  {
   "cell_type": "code",
   "execution_count": null,
   "metadata": {
    "hide_input": true,
    "scrolled": false
   },
   "outputs": [],
   "source": [
    "fig = plt.figure(figsize=(10,4), num=\"Landau Functional T = 4.5\")\n",
    "\n",
    "T = 4.5\n",
    "\n",
    "ax = fig.add_subplot(2, 1, 1, projection='3d')\n",
    "\n",
    "ax.set_title(\"3D\")\n",
    "ax.set_xlabel(\"$m_a$\")\n",
    "ax.set_ylabel(\"$m_b$\")\n",
    "ax.set_zlabel(\"$\\phi(m_a,m_b)$\") \n",
    "ax.set_xticks(np.linspace(-1, 1, 5, endpoint=True))\n",
    "ax.set_yticks(np.linspace(-1, 1, 5, endpoint=True))\n",
    "#ax.set_zticks([-2, 0, 2])\n",
    "\n",
    "m_a = np.linspace(-1.0, 1.0, 30, endpoint=True)\n",
    "m_b = np.linspace(-1.0, 1.0, 30, endpoint=True)\n",
    "m_a, m_b = np.meshgrid(m_a, m_b)\n",
    "LF = Landau_Functional((m_a, m_b),T)\n",
    "\n",
    "surface = ax.plot_surface(m_a, m_b, LF, cmap=cm.jet, rstride=1, cstride=1,\n",
    "                          linewidth=0, antialiased=False)\n",
    "fig.colorbar(surface, shrink=0.5, aspect=10)\n",
    "\n",
    "ax2 = fig.add_subplot(2, 1, 2)\n",
    "\n",
    "ax2.set_title(\"$m_b = -m_a $\")\n",
    "ax2.set_xlabel(\"$m_a$\")\n",
    "ax2.set_ylabel(\"$\\phi(m_a,-m_a)$\")\n",
    "ax2.grid(True)\n",
    "\n",
    "m_a = np.linspace(-1.0, 1.0, 50, endpoint=True)\n",
    "LF = Landau_Functional_Lineplot(m_a,T)\n",
    "\n",
    "ax2.plot(m_a, LF, 'bo--')\n",
    "\n",
    "plt.tight_layout()\n",
    "\n",
    "plt.show()"
   ]
  },
  {
   "cell_type": "markdown",
   "metadata": {
    "slideshow": {
     "slide_type": "subslide"
    }
   },
   "source": [
    "### Landau Functional Plot 3D T = 4.5"
   ]
  },
  {
   "cell_type": "code",
   "execution_count": null,
   "metadata": {
    "hide_input": true,
    "scrolled": false
   },
   "outputs": [],
   "source": [
    "fig = plt.figure(figsize=(10,4), num=\"Landau Functional T = 4.5 (only 3D)\")\n",
    "\n",
    "T = 4.5\n",
    "\n",
    "ax = fig.add_subplot(1, 1, 1, projection='3d')\n",
    "\n",
    "ax.set_title(\"3D\")\n",
    "ax.set_xlabel(\"$m_a$\")\n",
    "ax.set_ylabel(\"$m_b$\")\n",
    "ax.set_zlabel(\"$\\phi(m_a,m_b)$\")\n",
    "ax.set_xticks(np.linspace(-1, 1, 5, endpoint=True))\n",
    "ax.set_yticks(np.linspace(-1, 1, 5, endpoint=True))\n",
    "#ax.set_zticks([-2, 0, 2])\n",
    "\n",
    "m_a = np.linspace(-1.0, 1.0, 30, endpoint=True)\n",
    "m_b = np.linspace(-1.0, 1.0, 30, endpoint=True)\n",
    "m_a, m_b = np.meshgrid(m_a, m_b)\n",
    "LF = Landau_Functional((m_a, m_b),T)\n",
    "\n",
    "surface = ax.plot_surface(m_a, m_b, LF, cmap=cm.jet, rstride=1, cstride=1,\n",
    "                          linewidth=0, antialiased=False)\n",
    "\n",
    "fig.colorbar(surface, shrink=0.5, aspect=10)\n",
    "\n",
    "plt.tight_layout()\n",
    "\n",
    "plt.show()"
   ]
  },
  {
   "cell_type": "markdown",
   "metadata": {
    "slideshow": {
     "slide_type": "subslide"
    }
   },
   "source": [
    "### Minimization"
   ]
  },
  {
   "cell_type": "code",
   "execution_count": null,
   "metadata": {
    "slideshow": {
     "slide_type": "-"
    }
   },
   "outputs": [],
   "source": [
    "T_steps = np.linspace(0.5, 6.1, 50, endpoint=True)\n",
    "result = np.zeros((1,4))\n",
    "m = [0.0,0.0]\n",
    "\n",
    "for T_run in T_steps:\n",
    "    res = minimize(Landau_Functional, m, args=(T_run),\\\n",
    "                             method='Nelder-Mead', tol=1e-8,\\\n",
    "                             callback=None, options={'disp': False,\\\n",
    "                                                     'maxiter': None,\\\n",
    "                                                     'return_all': False,\\\n",
    "                                                     'maxfev': None,\\\n",
    "                                                     'xtol': 0.0001,\\\n",
    "                                                     'ftol': 0.0001})\n",
    "    temp = np.concatenate((res.x,[res.fun]), axis=0)\n",
    "    temp = np.concatenate((temp,[T_run]), axis=0)\n",
    "    result = np.vstack([result,temp])\n",
    "\n",
    "result = np.delete(result, 0, 0)"
   ]
  },
  {
   "cell_type": "markdown",
   "metadata": {
    "hide_input": false,
    "slideshow": {
     "slide_type": "subslide"
    }
   },
   "source": [
    "### Variational Procedure - Phasediagram"
   ]
  },
  {
   "cell_type": "code",
   "execution_count": null,
   "metadata": {
    "hide_input": true,
    "scrolled": false,
    "slideshow": {
     "slide_type": "-"
    }
   },
   "outputs": [],
   "source": [
    "fig = plt.figure(figsize=(10,4), num=\"Phasediagram Variational Procedure\")\n",
    "ax = fig.add_subplot(111)\n",
    "\n",
    "ax.set_xlabel('$T$', fontsize=12, fontweight='bold')\n",
    "ax.set_ylabel('$m_X$', fontsize=12, fontweight='bold')\n",
    "\n",
    "plt.plot([i[3] for i in result], [i[0] for i in result], color='red', label=\"$m_a$\", linestyle='--', linewidth=2.0)\n",
    "plt.plot([i[3] for i in result], [i[1] for i in result], color='blue', label=\"$m_b$\", linestyle='--', linewidth=2.0)\n",
    "\n",
    "plt.legend(ncol = 2)\n",
    "\n",
    "plt.grid(True)\n",
    "plt.show()"
   ]
  }
 ],
 "metadata": {
  "anaconda-cloud": {},
  "celltoolbar": "Slideshow",
  "kernelspec": {
   "display_name": "Python 3",
   "language": "python",
   "name": "python3"
  },
  "language_info": {
   "codemirror_mode": {
    "name": "ipython",
    "version": 3
   },
   "file_extension": ".py",
   "mimetype": "text/x-python",
   "name": "python",
   "nbconvert_exporter": "python",
   "pygments_lexer": "ipython3",
   "version": "3.7.4"
  }
 },
 "nbformat": 4,
 "nbformat_minor": 1
}
