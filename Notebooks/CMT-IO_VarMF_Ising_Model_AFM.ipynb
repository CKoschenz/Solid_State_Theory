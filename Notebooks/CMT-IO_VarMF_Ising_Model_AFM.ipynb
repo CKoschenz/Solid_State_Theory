{
 "cells": [
  {
   "cell_type": "code",
   "execution_count": null,
   "metadata": {
    "collapsed": false
   },
   "outputs": [],
   "source": [
    "import numpy as np\n",
    "import numpy.linalg\n",
    "import scipy as sc\n",
    "from scipy.optimize import minimize_scalar, minimize\n",
    "from scipy.misc import derivative\n",
    "import matplotlib.pyplot as plt\n",
    "from matplotlib import cm\n",
    "from mpl_toolkits.mplot3d import Axes3D\n",
    "import pandas\n",
    "%matplotlib notebook\n",
    "#%matplotlib inline"
   ]
  },
  {
   "cell_type": "markdown",
   "metadata": {},
   "source": [
    "# CMT Seminar - \"Mixed Phases in Mean Field Theory\""
   ]
  },
  {
   "cell_type": "markdown",
   "metadata": {},
   "source": [
    "## Model Parameter"
   ]
  },
  {
   "cell_type": "markdown",
   "metadata": {},
   "source": [
    "### Hopping"
   ]
  },
  {
   "cell_type": "code",
   "execution_count": null,
   "metadata": {
    "collapsed": false
   },
   "outputs": [],
   "source": [
    "t = ((1.0,0.0))"
   ]
  },
  {
   "cell_type": "markdown",
   "metadata": {},
   "source": [
    "### Hubbard Repulsion"
   ]
  },
  {
   "cell_type": "code",
   "execution_count": null,
   "metadata": {
    "collapsed": true
   },
   "outputs": [],
   "source": [
    "U = 5.0"
   ]
  },
  {
   "cell_type": "markdown",
   "metadata": {},
   "source": [
    "## Bandstructure"
   ]
  },
  {
   "cell_type": "markdown",
   "metadata": {},
   "source": [
    "\\begin{equation}\n",
    "\\epsilon\\left(\\vec{k}\\right) = -2t\\left( \\cos{(k_x)} + \\cos{(k_y)} \\right) - 4t'\\cos{(k_x)}\\cos{(k_y)}\n",
    "\\end{equation}"
   ]
  },
  {
   "cell_type": "code",
   "execution_count": null,
   "metadata": {
    "collapsed": false
   },
   "outputs": [],
   "source": [
    "def Bandstructure(k, t):\n",
    "    k_x = k[0]\n",
    "    k_y = k[1]\n",
    "    \n",
    "    t_1 = t[0]\n",
    "    t_2 = t[1]\n",
    "    \n",
    "    return -2.0 * t_1 * (np.cos(k_x) + np.cos(k_y) ) - 4.0 * t_2 * np.cos(k_x) * np.cos(k_y)"
   ]
  },
  {
   "cell_type": "code",
   "execution_count": null,
   "metadata": {
    "collapsed": false
   },
   "outputs": [],
   "source": [
    "fig_bandstructure = plt.figure()\n",
    "ax = Axes3D(fig_bandstructure)\n",
    "kx = np.arange(-np.pi, np.pi, 0.25)\n",
    "ky = np.arange(-np.pi, np.pi, 0.25)\n",
    "kx, ky = np.meshgrid(kx, ky)\n",
    "\n",
    "E = Bandstructure((kx,ky), t)\n",
    "ax.plot_surface(kx, ky, E, rstride=1, cstride=1, cmap=cm.jet)\n",
    "\n",
    "plt.show()"
   ]
  },
  {
   "cell_type": "markdown",
   "metadata": {},
   "source": [
    "## Mean-Field Parameter\n",
    "\n",
    "##### AFM\n",
    "\n",
    "Density: $q_i = q$,\n",
    "\n",
    "Fermion Spin: $\\vec{m}_i = m_{AF}(-1)^{i_x + i_y}\\vec{e}_z$ \n",
    "\n",
    "##### FM\n",
    "\n",
    "Density: $q_i = q$, \n",
    "\n",
    "Fermion Spin: $\\vec{m}_i = m_{F}\\vec{e}_z$\n",
    "\n",
    "##### PM\n",
    "\n",
    "Density: $q_i = q$,\n",
    "\n",
    "Fermion spin: $\\vec{m}_i = \\vec{0}$"
   ]
  },
  {
   "cell_type": "markdown",
   "metadata": {},
   "source": [
    "## Eigenenergies of the one-particle Hamiltonian"
   ]
  },
  {
   "cell_type": "markdown",
   "metadata": {},
   "source": [
    "##### AFM\n",
    "\n",
    "\\begin{equation}\n",
    "E^{\\text{AFM}}_{\\pm} \\left(\\vec{k}\\right) = \\frac{1}{2} \\left[ \\epsilon\\left(\\vec{k}\\right) + \\epsilon\\left(\\vec{k}+\\vec{Q}\\right) \\right] + \\frac{U}{2}\\left(q-1\\right)-\\mu \\pm \\frac{1}{2} \\sqrt{\\left[ \\epsilon\\left(\\vec{k}\\right) + \\epsilon\\left(\\vec{k}+\\vec{Q}\\right) \\right]^2 + (Um_{\\text{AFM}})^2}\\quad\\text{with}\\quad\\vec{Q} = (\\pi,\\pi)\n",
    "\\end{equation}"
   ]
  },
  {
   "cell_type": "code",
   "execution_count": null,
   "metadata": {
    "collapsed": false
   },
   "outputs": [],
   "source": [
    "def E_afm_1(k, t, U, mu, q, m):\n",
    "    kx_Q = k[0] + np.pi\n",
    "    ky_Q = k[1] + np.pi\n",
    "\n",
    "    return    0.5 * ( Bandstructure(k, t) + Bandstructure((kx_Q,ky_Q), t)) + 0.5*U*(q-1.0) - mu\\\n",
    "            - 0.5 * np.sqrt( ( Bandstructure(k, t) - Bandstructure((kx_Q,ky_Q), t))**2 + (U*m)**2 )\n",
    "\n",
    "def E_afm_2(k, t, U, mu, q, m):\n",
    "    kx_Q = k[0] + np.pi\n",
    "    ky_Q = k[1] + np.pi\n",
    "    \n",
    "    return    0.5 * ( Bandstructure(k, t) + Bandstructure((kx_Q,ky_Q), t)) + 0.5*U*(q-1.0) - mu\\\n",
    "            + 0.5 * np.sqrt( ( Bandstructure(k, t) - Bandstructure((kx_Q,ky_Q), t))**2 + (U*m)**2 )"
   ]
  },
  {
   "cell_type": "code",
   "execution_count": null,
   "metadata": {
    "collapsed": false
   },
   "outputs": [],
   "source": [
    "fig_afm_bandstructure = plt.figure()\n",
    "ax = Axes3D(fig_afm_bandstructure)\n",
    "kx = np.linspace(-np.pi, np.pi, 20, endpoint=True)\n",
    "ky = np.linspace(-np.pi, np.pi, 20, endpoint=True)\n",
    "kx, ky = np.meshgrid(kx, ky)\n",
    "\n",
    "E1 = E_afm_1((kx,ky), t, U, 0.0, 1.0, 1.0)\n",
    "E2 = E_afm_2((kx,ky), t, U, 0.0, 1.0, 1.0)\n",
    "\n",
    "ax.plot_surface(kx, ky, E1, rstride=1, cstride=1, cmap=cm.jet)\n",
    "ax.plot_surface(kx, ky, E2, rstride=1, cstride=1, cmap=cm.jet)\n",
    "\n",
    "plt.show()"
   ]
  },
  {
   "cell_type": "markdown",
   "metadata": {},
   "source": [
    "##### FM\n",
    "\n",
    "\\begin{equation}\n",
    "E^{\\text{FM}}_{\\pm} \\left(\\vec{k}\\right) = \\epsilon\\left(\\vec{k}\\right) + \\frac{U}{2}\\left(q-1 \\pm m_{\\text{FM}} \\right)-\\mu\n",
    "\\end{equation}"
   ]
  },
  {
   "cell_type": "code",
   "execution_count": null,
   "metadata": {
    "collapsed": true
   },
   "outputs": [],
   "source": [
    "def E_fm_1(k, t, U, mu, q, m):\n",
    "    return Bandstructure(k, t) + 0.5*U*(q-1.0 - m) - mu\n",
    "\n",
    "def E_fm_2(k, t, U, mu, q, m):\n",
    "    return Bandstructure(k, t) + 0.5*U*(q-1.0 + m) - mu"
   ]
  },
  {
   "cell_type": "code",
   "execution_count": null,
   "metadata": {
    "collapsed": false
   },
   "outputs": [],
   "source": [
    "fig_fm_bandstructure = plt.figure()\n",
    "ax = Axes3D(fig_fm_bandstructure)\n",
    "kx = np.linspace(-np.pi, np.pi, 20, endpoint=True)\n",
    "ky = np.linspace(-np.pi, np.pi, 20, endpoint=True)\n",
    "kx, ky = np.meshgrid(kx, ky)\n",
    "\n",
    "E1 = E_fm_1((kx,ky), t, U, 0.0, 1.0, 1.0)\n",
    "E2 = E_fm_2((kx,ky), t, U, 0.0, 1.0, 1.0)\n",
    "\n",
    "ax.plot_surface(kx, ky, E1, rstride=1, cstride=1, cmap=cm.jet)\n",
    "ax.plot_surface(kx, ky, E2, rstride=1, cstride=1, cmap=cm.jet)\n",
    "\n",
    "plt.show()"
   ]
  },
  {
   "cell_type": "markdown",
   "metadata": {},
   "source": [
    "#####  PM\n",
    "\n",
    "\\begin{equation}\n",
    "E^{\\text{PM}}_{\\pm} \\left(\\vec{k}\\right) = \\epsilon\\left(\\vec{k}\\right) + \\frac{U}{2}\\left(q-1\\right)-\\mu\n",
    "\\end{equation}"
   ]
  },
  {
   "cell_type": "code",
   "execution_count": null,
   "metadata": {
    "collapsed": true
   },
   "outputs": [],
   "source": [
    "def E_pm_1(k, t, U, mu, q, m=0):\n",
    "    return Bandstructure(k, t) + 0.5*U*(q-1.0) - mu\n",
    "\n",
    "def E_pm_2(k, t, U, mu, q, m=0):\n",
    "    return Bandstructure(k, t) + 0.5*U*(q-1.0) - mu"
   ]
  },
  {
   "cell_type": "code",
   "execution_count": null,
   "metadata": {
    "collapsed": false
   },
   "outputs": [],
   "source": [
    "fig_pm_bandstructure = plt.figure()\n",
    "ax = Axes3D(fig_pm_bandstructure)\n",
    "kx = np.linspace(-np.pi, np.pi, 20, endpoint=True)\n",
    "ky = np.linspace(-np.pi, np.pi, 20, endpoint=True)\n",
    "kx, ky = np.meshgrid(kx, ky)\n",
    "\n",
    "E1 = E_pm_1((kx,ky), t, U, 1.0, 1.0, 1.0)\n",
    "\n",
    "ax.plot_surface(kx, ky, E1, rstride=1, cstride=1, cmap=cm.jet)\n",
    "\n",
    "plt.show()"
   ]
  },
  {
   "cell_type": "markdown",
   "metadata": {},
   "source": [
    "## Landau Functionals\n",
    "\n",
    "\\begin{equation}\n",
    "\\mathcal{F}_{X} = \\frac{U}{4}\\left(m^{2}_{X} - (q-1)^2 \\right) - \\frac{1}{\\beta L^2} \\sum_{\\vec{k}, \\varepsilon=\\pm} \\log{\\left(\\cosh{\\left(\\frac{\\beta}{2} E^{\\text{X}}_{\\varepsilon} \\left( \\vec{k} \\right) \\right) }\\right)}\n",
    "\\end{equation}"
   ]
  },
  {
   "cell_type": "code",
   "execution_count": null,
   "metadata": {
    "collapsed": true
   },
   "outputs": [],
   "source": [
    "beta = 1000 # beta = 1.0 / kT\n",
    "L = 60       # Nr. of Lattice Sites/k-points in discretized 1. Brillouin Zine "
   ]
  },
  {
   "cell_type": "markdown",
   "metadata": {},
   "source": [
    "##### AFM"
   ]
  },
  {
   "cell_type": "code",
   "execution_count": null,
   "metadata": {
    "collapsed": false
   },
   "outputs": [],
   "source": [
    "def F_afm(q, m, t, U, mu):\n",
    "    kx_grid = np.linspace(-np.pi, np.pi, L, endpoint=False)\n",
    "    ky_grid = np.linspace(-np.pi, np.pi, L, endpoint=False)\n",
    "\n",
    "    summe = 0\n",
    "    \n",
    "    for kx in kx_grid:\n",
    "        for ky in ky_grid:\n",
    "            X = 0.5*beta*E_afm_1((kx,ky), (t[0],t[1]), U, mu, q, m)\n",
    "            summe += np.sign(X)*X - np.log(2) + np.log( np.exp(-2.0*np.sign(X)*X) + 1.0)\n",
    "            X = 0.5*beta*E_afm_2((kx,ky), (t[0],t[1]), U, mu, q, m)\n",
    "            summe += np.sign(X)*X - np.log(2) + np.log( np.exp(-2.0*np.sign(X)*X) + 1.0)    \n",
    "    \n",
    "    return 0.25 * U * (m**2 - (q - 1)**2) - (1.0 / (beta*L**2)) * summe"
   ]
  },
  {
   "cell_type": "markdown",
   "metadata": {},
   "source": [
    "#### FM"
   ]
  },
  {
   "cell_type": "code",
   "execution_count": null,
   "metadata": {
    "collapsed": true
   },
   "outputs": [],
   "source": [
    "def F_fm(q, m, t, U, mu):\n",
    "    kx_grid = np.linspace(-np.pi, np.pi, L, endpoint=False)\n",
    "    ky_grid = np.linspace(-np.pi, np.pi, L, endpoint=False)\n",
    "    \n",
    "    summe = 0\n",
    "    \n",
    "    for kx in kx_grid:\n",
    "        for ky in ky_grid:\n",
    "            X = 0.5*beta*E_fm_1((kx,ky), (t[0],t[1]), U, mu, q, m)\n",
    "            summe += np.sign(X)*X - np.log(2) + np.log( np.exp(-2.0*np.sign(X)*X) + 1.0)\n",
    "            X = 0.5*beta*E_fm_2((kx,ky), (t[0],t[1]), U, mu, q, m)\n",
    "            summe += np.sign(X)*X - np.log(2) + np.log( np.exp(-2.0*np.sign(X)*X) + 1.0)\n",
    "    \n",
    "    return 0.25 * U * (m**2 - (q - 1)**2) - (1.0 / (beta*L**2)) * summe"
   ]
  },
  {
   "cell_type": "markdown",
   "metadata": {},
   "source": [
    "#### PM"
   ]
  },
  {
   "cell_type": "code",
   "execution_count": null,
   "metadata": {
    "collapsed": false
   },
   "outputs": [],
   "source": [
    "#Notice: according to assumption m = 0, and will not used as argument in def\n",
    "def F_pm(q, t, U, mu):\n",
    "    kx_grid = np.linspace(-np.pi, np.pi, L, endpoint=False)\n",
    "    ky_grid = np.linspace(-np.pi, np.pi, L, endpoint=False)\n",
    "    \n",
    "    summe = 0\n",
    "    \n",
    "    for kx in kx_grid:\n",
    "        for ky in ky_grid:\n",
    "            X = 0.5*beta*E_pm_1((kx,ky), t, U, mu, q)\n",
    "            summe += np.sign(X)*X - np.log(2) + np.log( np.exp(-2.0*np.sign(X)*X) + 1.0)\n",
    "            X = 0.5*beta*E_pm_2((kx,ky), t, U, mu, q)\n",
    "            summe += np.sign(X)*X - np.log(2) + np.log( np.exp(-2.0*np.sign(X)*X) + 1.0)    \n",
    "    \n",
    "    return 0.25 * U * ( - (q - 1)**2) - (1.0 / (beta*L**2)) * summe"
   ]
  },
  {
   "cell_type": "markdown",
   "metadata": {},
   "source": [
    "## Plots of the Landau Functionals"
   ]
  },
  {
   "cell_type": "code",
   "execution_count": null,
   "metadata": {
    "collapsed": false
   },
   "outputs": [],
   "source": [
    "fig_LFs = plt.figure(figsize=plt.figaspect(0.5))\n",
    "fig_LFs.suptitle('Plots of the Landau Functionals')\n",
    "\n",
    "#AFM\n",
    "ax = fig_LFs.add_subplot(1, 3, 1, projection='3d')\n",
    "\n",
    "ax.set_title(\"AFM\")\n",
    "ax.set_xlabel(\"$m_{AFM}$\")\n",
    "ax.set_ylabel(\"$q$\")\n",
    "ax.set_zlabel(\"$\\mathcal{F}_{AFM}$\")\n",
    "\n",
    "m = np.linspace(-1.0, 1.0, 20, endpoint=True)\n",
    "q = np.linspace(0.0, 2.0, 20, endpoint=True)\n",
    "m, q = np.meshgrid(m, q)\n",
    "\n",
    "Z = F_afm(q, m, t, U, 0.0)\n",
    "\n",
    "surf = ax.plot_surface(m, q, Z, rstride=1, cstride=1, cmap=cm.jet)\n",
    "fig_LFs.colorbar(surf, shrink=0.5, aspect=10)\n",
    "\n",
    "#FM\n",
    "ax = fig_LFs.add_subplot(1, 3, 2, projection='3d')\n",
    "\n",
    "ax.set_title(\"FM\")\n",
    "ax.set_xlabel(\"$m_{FM}$\")\n",
    "ax.set_ylabel(\"$q$\")\n",
    "ax.set_zlabel(\"$\\mathcal{F}_{FM}$\")\n",
    "\n",
    "m = np.linspace(-1.0, 1.0, 20, endpoint=True)\n",
    "q = np.linspace(0.0, 2.0, 20, endpoint=True)\n",
    "m, q = np.meshgrid(m, q)\n",
    "\n",
    "Z = F_fm(q, m, t, U, 0.0)\n",
    "\n",
    "surf = ax.plot_surface(m, q, Z, rstride=1, cstride=1, cmap=cm.jet)\n",
    "fig_LFs.colorbar(surf, shrink=0.5, aspect=10)\n",
    "\n",
    "#PM\n",
    "ax = fig_LFs.add_subplot(1, 3, 3)\n",
    "\n",
    "ax.set_title(\"PM\")\n",
    "ax.set_xlabel(\"$q$\")\n",
    "ax.set_ylabel(\"$\\mathcal{F}_{PM}$\")\n",
    "\n",
    "q = np.linspace(0.0, 2.0, 30, endpoint=True)\n",
    "\n",
    "ax.plot(q, F_pm(q, t, U, 0.0), 'bo--')\n",
    "\n",
    "ax.grid(True)\n",
    "ax.set_ylabel('E')\n",
    "\n",
    "plt.tight_layout()\n",
    "plt.show()"
   ]
  },
  {
   "cell_type": "code",
   "execution_count": null,
   "metadata": {
    "collapsed": false
   },
   "outputs": [],
   "source": [
    "fig_LFs = plt.figure(figsize=plt.figaspect(0.75))\n",
    "ax = Axes3D(fig_LFs)\n",
    "\n",
    "ax.set_title(\"AFM\")\n",
    "ax.set_xlabel(\"$m_{AFM}$\")\n",
    "ax.set_ylabel(\"$q$\")\n",
    "ax.set_zlabel(\"$\\mathcal{F}_{AFM}$\")\n",
    "\n",
    "m = np.linspace(-1.0, 1.0, 30, endpoint=True)\n",
    "q = np.linspace(0.0, 2.0, 30, endpoint=True)\n",
    "m, q = np.meshgrid(m, q)\n",
    "\n",
    "Z = F_afm(q, m, t, U, 0.0)\n",
    "\n",
    "surf = ax.plot_surface(m, q, Z, rstride=1, cstride=1,  cmap=cm.jet)\n",
    "fig_LFs.colorbar(surf, shrink=0.5, aspect=10)\n",
    "\n",
    "plt.show()"
   ]
  },
  {
   "cell_type": "code",
   "execution_count": null,
   "metadata": {
    "collapsed": false
   },
   "outputs": [],
   "source": [
    "fig, axs = plt.subplots(2,3)\n",
    "\n",
    "m = np.linspace(-1.0, 1.0, 30, endpoint=True)\n",
    "q = np.linspace(0.0, 2.0, 30, endpoint=True)\n",
    "m, q = np.meshgrid(m, q)\n",
    "\n",
    "axs[0][0].set_title(\"$U = 1.0$, $\\mu = 0.0$\")\n",
    "axs[0][0].set_xlabel(\"$m_{AFM}$\")\n",
    "axs[0][0].set_ylabel(\"$q$\")\n",
    "\n",
    "Z = F_afm(q, m, t, 1.0, 0.0)\n",
    "levels = np.linspace(-2.0, -1.5, 100)\n",
    "\n",
    "cs = axs[0][0].contourf(m, q, Z, levels=levels, cmap=cm.jet)\n",
    "fig.colorbar(cs, ax=axs[0][0], format=\"%.2f\")\n",
    "\n",
    "axs[0][1].set_title(\"$U = 5.0$, $\\mu = 0.0$\")\n",
    "\n",
    "Z = F_afm(q, m, t, 5.0, 0.0)\n",
    "levels = np.linspace(-4, -1.5, 100)\n",
    "\n",
    "cs = axs[0][1].contourf(m, q, Z, levels=levels, cmap=cm.jet)\n",
    "fig.colorbar(cs, ax=axs[0][1], format=\"%.2f\")\n",
    "\n",
    "axs[0][2].set_title(\"$U = 10.0$, $\\mu = 0.0$\")\n",
    "\n",
    "Z = F_afm(q, m, t, 10.0, 0.0)\n",
    "levels = np.linspace(-7.5, -1.5, 100)\n",
    "\n",
    "cs = axs[0][2].contourf(m, q, Z, levels=levels, cmap=cm.jet)\n",
    "fig.colorbar(cs, ax=axs[0][2], format=\"%.2f\")\n",
    "\n",
    "axs[1][0].set_title(\"$U = 10.0$, $\\mu = 5.0$\")\n",
    "\n",
    "Z = F_afm(q, m, t, 10.0, 5.0)\n",
    "levels = np.linspace(-12.5, -2.5, 100)\n",
    "\n",
    "cs = axs[1][0].contourf(m, q, Z, levels=levels, cmap=cm.jet)\n",
    "fig.colorbar(cs, ax=axs[1][0], format=\"%.2f\")\n",
    "\n",
    "axs[1][1].set_title(\"$U = 10.0$, $\\mu = 3.0$\")\n",
    "\n",
    "Z = F_afm(q, m, t, 10.0, 3.0)\n",
    "levels = np.linspace(-10.5, -2.0, 100)\n",
    "\n",
    "cs = axs[1][1].contourf(m, q, Z, levels=levels, cmap=cm.jet)\n",
    "fig.colorbar(cs, ax=axs[1][1], format=\"%.2f\")\n",
    "\n",
    "axs[1][2].set_title(\"$U = 10.0$, $\\mu = 1.0$\")\n",
    "\n",
    "Z = F_afm(q, m, t, 10.0, 1.0)\n",
    "levels = np.linspace(-10.0, -1.5, 100)\n",
    "\n",
    "cs = axs[1][2].contourf(m, q, Z, levels=levels, cmap=cm.jet)\n",
    "fig.colorbar(cs, ax=axs[1][2], format=\"%.2f\")\n",
    "\n",
    "plt.tight_layout()\n",
    "plt.show()"
   ]
  },
  {
   "cell_type": "markdown",
   "metadata": {
    "collapsed": true
   },
   "source": [
    "## Saddle Point Search"
   ]
  },
  {
   "cell_type": "markdown",
   "metadata": {},
   "source": [
    "Maximize F with respect to q for fixed m and then fix q at found max. and minimize F with respect to m.\n",
    "Repeat until convergence"
   ]
  },
  {
   "cell_type": "code",
   "execution_count": null,
   "metadata": {
    "collapsed": true
   },
   "outputs": [],
   "source": [
    "def F_afm_max_for_q(q, m, t, U, mu):\n",
    "    return -F_afm(q, m, t, U, mu)\n",
    "def F_afm_min_for_m(m, q, t, U, mu):\n",
    "    return F_afm(q, m, t, U, mu)\n",
    "\n",
    "def F_fm_max_for_q(q, m, t, U, mu):\n",
    "    return -F_fm(q, m, t, U, mu)\n",
    "def F_fm_min_for_m(m, q, t, U, mu):\n",
    "    return F_fm(q, m, t, U, mu)\n",
    "\n",
    "def F_pm_max_for_q(q, t, U, mu):\n",
    "    return -F_pm(q, t, U, mu)"
   ]
  },
  {
   "cell_type": "code",
   "execution_count": null,
   "metadata": {
    "collapsed": false
   },
   "outputs": [],
   "source": [
    "mu_array = np.linspace(-4.0, 4.0, 81, endpoint=True)\n",
    "result_afm = np.zeros((0,4))\n",
    "result_fm = np.zeros((0,4))\n",
    "result_pm = np.zeros((0,3))\n",
    "m_global_guess = 1.0\n",
    "q_global_guess = 1.0"
   ]
  },
  {
   "cell_type": "code",
   "execution_count": null,
   "metadata": {
    "collapsed": false
   },
   "outputs": [],
   "source": [
    "def free_energy_afm(mu, t, U):\n",
    "    global result_afm\n",
    "    global m_global_guess\n",
    "    global q_global_guess\n",
    "    \n",
    "    m_old = 2.0\n",
    "    m_new = m_global_guess\n",
    "\n",
    "    q_old = 8.0\n",
    "    q_new = q_global_guess\n",
    "\n",
    "    eps = 1e-2\n",
    "\n",
    "    max_run = 10\n",
    "    i = 0\n",
    "    \n",
    "    old_mag_arr = np.zeros(2)\n",
    "    \n",
    "    print(\"WhileLoop:\", sep=' ', end =\"\\n\", flush=True)\n",
    "    \n",
    "    no_saddle_point = False\n",
    "    \n",
    "    while i < max_run and (np.fabs(m_old - m_new) > eps or np.fabs(q_old - q_new) > eps):\n",
    "        \n",
    "        i = i + 1\n",
    "        print(i, sep=' ', end =\" \", flush=True)\n",
    "\n",
    "        print(q_new, sep=' ', end = \" \", flush=True)\n",
    "        print(m_new, sep=' ', end = \" \", flush=True)\n",
    "        \n",
    "        q_old = q_new\n",
    "        result_max_for_q = minimize(F_afm_max_for_q, 1.0, args=(m_new, t, U, mu), method='trust-ncg', tol=1e-8)\n",
    "        q_new = result_max_for_q.x\n",
    "        print(q_new, sep=' ', end = \" \", flush=True)\n",
    "        \n",
    "        m_old = m_new\n",
    "        result_min_for_m = minimize(F_afm_min_for_m, 1.0, args=(q_new, t, U, mu), method='trust-ncg', tol=1e-8)\n",
    "        m_new = result_min_for_m.x\n",
    "        print(m_new, sep=' ', end = \" \", flush=True)\n",
    "        \n",
    "        if (np.fabs(m_new-old_mag_arr[1]) < 1e-5) and np.fabs(m_new - old_mag_arr[0]) > 0.5:\n",
    "            m_new = 0.5*(old_mag_arr[0] + old_mag_arr[1]) \n",
    "            print('\\n found 2 loop', m_new)\n",
    "            #no_saddle_point = True\n",
    "            #break\n",
    "    \n",
    "        old_mag_arr[1] = old_mag_arr[0]\n",
    "        old_mag_arr[0] = m_new\n",
    "        \n",
    "        print( F_afm(q_new, m_new, t, U, mu), end = \"\\n\", flush=True)\n",
    "\n",
    "    if(not no_saddle_point):\n",
    "        F = F_afm(q_new, m_new, t, U, mu)\n",
    "        m_global_guess = m_new\n",
    "        q_global_guess = q_new\n",
    "        result_afm = np.vstack([result_afm,[mu,q_new,m_new,F]])\n",
    "    else:\n",
    "        F = 0\n",
    "        q_new = 0\n",
    "        m_new = 0\n",
    "        result_afm = np.vstack([result_afm,[mu,q_new,m_new,F]])\n",
    "    \n",
    "    print(\"\\nMu: {0:3.3f}, q: {1:3.3f}, m: {2:3.3f}, F: {3:3.3f}\\n\\n\".format(mu, q_new, m_new, F))\n",
    "    return(F)\n",
    "\n",
    "def free_energy_fm(mu, t, U):\n",
    "    global result_fm\n",
    "    global m_global_guess\n",
    "    global q_global_guess\n",
    "    \n",
    "    m_old = 2.0\n",
    "    m_new = m_global_guess\n",
    "\n",
    "    q_old = 8.0\n",
    "    q_new = q_global_guess\n",
    "\n",
    "    eps = 1e-2\n",
    "\n",
    "    max_run = 10\n",
    "    i = 0\n",
    "    \n",
    "    old_mag_arr = np.zeros(2)\n",
    "\n",
    "    print(\"WhileLoop:\", sep=' ', end =\"\\n\", flush=True)\n",
    "    \n",
    "    no_saddle_point = False\n",
    "    \n",
    "    while i < max_run and (np.fabs(m_old - m_new) > eps or np.fabs(q_old - q_new) > eps):\n",
    "        \n",
    "        i = i + 1\n",
    "        print(i, sep=' ', end =\" \", flush=True)\n",
    "        \n",
    "        print(q_new, sep=' ', end = \" \", flush=True)\n",
    "        print(m_new, sep=' ', end = \" \", flush=True)\n",
    "    \n",
    "        q_old = q_new\n",
    "\n",
    "        result_max_for_q = minimize_scalar(F_fm_max_for_q, bracket=(0.0, 2.0), args=(m_new, t, U, mu), method='brent', options={'xtol': 1e-8})\n",
    "        q_new = result_max_for_q.x\n",
    "        print(q_new, sep=' ', end = \" \", flush=True)\n",
    "        \n",
    "        m_old = m_new\n",
    "\n",
    "        result_min_for_m = minimize_scalar(F_fm_min_for_m, bracket=(-1.0, 1.0), args=(q_new, t, U, mu), method='brent', options={'xtol': 1e-8})\n",
    "        m_new = result_min_for_m.x\n",
    "        print(m_new, sep=' ', end = \" \", flush=True)\n",
    "        \n",
    "        if (np.fabs(m_new-old_mag_arr[1]) < 1e-5) and np.fabs(m_new - old_mag_arr[0]) > 0.5:\n",
    "            m_new = 0.8*(old_mag_arr[0] + old_mag_arr[1]) \n",
    "            print('\\n found 2 loop', m_new)\n",
    "            no_saddle_point = True\n",
    "            break\n",
    "    \n",
    "        old_mag_arr[1] = old_mag_arr[0]\n",
    "        old_mag_arr[0] = m_new\n",
    "        \n",
    "        print( F_fm(q_new, m_new, t, U, mu), end = \"\\n\", flush=True)\n",
    "\n",
    "    if(not no_saddle_point):\n",
    "        F = F_fm(q_new, m_new, t, U, mu)\n",
    "        m_global_guess = m_new\n",
    "        q_global_guess = q_new\n",
    "        result_fm = np.vstack([result_fm,[mu,q_new,m_new,F]])\n",
    "    else:\n",
    "        F = 0\n",
    "        q_new = 0\n",
    "        m_new = 0\n",
    "        result_fm = np.vstack([result_fm,[mu,q_new,m_new,F]])\n",
    "    \n",
    "    print(\"\\nMu: {0:3.3f}, q: {1:3.3f}, m: {2:3.3f}, F: {3:3.3f}\\n\\n\".format(mu, q_new, m_new, F))\n",
    "    return(F)\n",
    "\n",
    "def free_energy_pm(mu, t, U):\n",
    "    global result_pm\n",
    "    \n",
    "    result_max_for_q = minimize_scalar(F_pm_max_for_q, bracket=(0.0, 2.0), args=(t, U, mu), method='brent', options={'xtol': 1e-8})\n",
    "    q_new = result_max_for_q.x\n",
    "        \n",
    "    F = F_pm(q_new, t, U, mu)\n",
    "    print(\"Mu: {0:3.3f}, q: {1:3.3f}, F: {2:3.3f}\\n\".format(mu, q_new, F))\n",
    "    result_pm = np.vstack([result_pm,[mu,q_new,F]])\n",
    "    \n",
    "    return(F)"
   ]
  },
  {
   "cell_type": "code",
   "execution_count": null,
   "metadata": {
    "collapsed": false
   },
   "outputs": [],
   "source": [
    "mu_array = np.linspace(-1.0, 1.0, 11, endpoint=True)\n",
    "for mu in mu_array:\n",
    "    free_energy_pm(mu, t, U)"
   ]
  },
  {
   "cell_type": "code",
   "execution_count": null,
   "metadata": {
    "collapsed": false
   },
   "outputs": [],
   "source": [
    "#teams_list = [\"Mu\", \"q\", \"m\", \"F\"]\n",
    "#teams_list = [\"Mu\", \"q\", \"F\"]\n",
    "#pandas.DataFrame(result_fm, mu_array, teams_list)\n",
    "result_pm"
   ]
  },
  {
   "cell_type": "code",
   "execution_count": null,
   "metadata": {
    "collapsed": false
   },
   "outputs": [],
   "source": [
    "plt.figure()\n",
    "#plt.plot([i[0] for i in result_afm], [i[3] for i in result_afm], 'o')\n",
    "plt.plot([i[0] for i in result_afm], [i[3] for i in result_afm], 'r-',\\\n",
    "         [i[0] for i in result_fm], [i[3] for i in result_fm], 'o',\\\n",
    "         [i[0] for i in result_pm], [i[2] for i in result_pm], 'x')\n",
    "#plt.axis([-2, 2, -2.51, -2.49])\n",
    "plt.show()"
   ]
  },
  {
   "cell_type": "markdown",
   "metadata": {
    "collapsed": true
   },
   "source": [
    "### Derivatives"
   ]
  },
  {
   "cell_type": "code",
   "execution_count": null,
   "metadata": {
    "collapsed": false
   },
   "outputs": [],
   "source": [
    "deriv_afm = np.zeros(len(mu_array))\n",
    "deriv_fm = np.zeros(len(mu_array))\n",
    "deriv_pm = np.zeros(len(mu_array))"
   ]
  },
  {
   "cell_type": "code",
   "execution_count": null,
   "metadata": {
    "collapsed": false
   },
   "outputs": [],
   "source": [
    "for count, mu_run in enumerate(mu_array):\n",
    "    deriv_pm[count] = derivative(free_energy_pm, mu_run, dx=1e-2, args=(t,U))"
   ]
  },
  {
   "cell_type": "code",
   "execution_count": null,
   "metadata": {
    "collapsed": false
   },
   "outputs": [],
   "source": [
    "result_afm = np.load('afm_Res2.npy')\n",
    "result_fm = np.load('fm_Res2.npy')\n",
    "result_pm = np.load('pm_Res2.npy')\n",
    "\n",
    "deriv_afm = np.load('afm_diff2.npy')\n",
    "deriv_fm = np.load('fm_diff2.npy')\n",
    "derive_pm = np.load('pm_diff2.npy')"
   ]
  },
  {
   "cell_type": "code",
   "execution_count": null,
   "metadata": {
    "collapsed": false
   },
   "outputs": [],
   "source": [
    "plt.figure()\n",
    "plt.plot([i[0] for i in result_afm], [i[3] for i in result_afm], 'r-',\\\n",
    "         [i[0] for i in result_fm], [i[3] for i in result_fm], 'o-',\\\n",
    "         [i[0] for i in result_pm], [i[2] for i in result_pm], 'x-')\n",
    "#plt.xlim([-0.2,0.2])\n",
    "#plt.ylim([-1.625,-1.619])\n",
    "#plt.axis([-2, 2, -2.51, -2.49])\n",
    "plt.show()"
   ]
  },
  {
   "cell_type": "code",
   "execution_count": null,
   "metadata": {
    "collapsed": false
   },
   "outputs": [],
   "source": [
    "plt.figure()\n",
    "#plt.plot(mu_array, -deriv_afm, 'r--')\n",
    "plt.grid()\n",
    "plt.plot(mu_array, -deriv_afm, 'o')\n",
    "#,\\\n",
    "#         mu_array, -deriv_fm, 'b--',\\\n",
    "#         mu_array, -deriv_pm, 'm--')\n",
    "#plt.axis([0, 6, 0, 20])\n",
    "plt.show()"
   ]
  },
  {
   "cell_type": "code",
   "execution_count": null,
   "metadata": {
    "collapsed": true
   },
   "outputs": [],
   "source": []
  }
 ],
 "metadata": {
  "anaconda-cloud": {},
  "kernelspec": {
   "display_name": "Python 3",
   "language": "python",
   "name": "python3"
  },
  "language_info": {
   "codemirror_mode": {
    "name": "ipython",
    "version": 3
   },
   "file_extension": ".py",
   "mimetype": "text/x-python",
   "name": "python",
   "nbconvert_exporter": "python",
   "pygments_lexer": "ipython3",
   "version": "3.5.2"
  }
 },
 "nbformat": 4,
 "nbformat_minor": 0
}
