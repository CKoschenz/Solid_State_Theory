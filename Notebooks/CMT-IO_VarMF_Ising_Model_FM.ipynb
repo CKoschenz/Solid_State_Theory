{
 "cells": [
  {
   "cell_type": "code",
   "execution_count": null,
   "metadata": {
    "nbpresent": {
     "id": "4679e64d-22f3-42e9-a29c-da69f48bfc80"
    }
   },
   "outputs": [],
   "source": [
    "import numpy as np\n",
    "import numpy.linalg\n",
    "import scipy as sc\n",
    "from scipy.optimize import minimize_scalar, minimize\n",
    "from scipy.misc import derivative\n",
    "import matplotlib.pyplot as plt\n",
    "plt.rcParams['figure.figsize'] = (8,10)\n",
    "from matplotlib import cm\n",
    "from mpl_toolkits.mplot3d import Axes3D\n",
    "from IPython.display import display, HTML\n",
    "import time\n",
    "%matplotlib notebook\n",
    "#%matplotlib inline\n",
    "#%load_ext tikzmagic\n",
    "import tikzmagic\n",
    "#https://github.com/mkrphys/ipython-tikzmagic\n",
    "#http://blog.invibe.net/posts/2015-01-20-using-tikzmagic.html\n",
    "#https://stackoverflow.com/questions/45671481/how-do-i-center-the-outputs-on-a-python-jupyter-notebook\n",
    "display(HTML(\"\"\"\n",
    "<style>\n",
    ".output {\n",
    "    display: flex;\n",
    "    align-items: center;\n",
    "    text-align: center;\n",
    "}\n",
    "</style>\n",
    "\"\"\"))\n",
    "#print(sc.__version__)\n",
    "#print(numpy.__version__)"
   ]
  },
  {
   "cell_type": "markdown",
   "metadata": {
    "nbpresent": {
     "id": "c08f9409-4564-44d4-8b00-63612cbc9172"
    }
   },
   "source": [
    "# <center>CMT Seminar</center>\n",
    "## <center>Variational Principle in Meanfield Theories by the Example of the Ising Model</center>"
   ]
  },
  {
   "cell_type": "markdown",
   "metadata": {},
   "source": [
    "## The Ising Model\n",
    "\n",
    "\\begin{equation}\n",
    "\\hat{H} = - \\sum_{\\left<ij\\right>} J_{ij} \\sigma^{z}_{i}\\sigma^{z}_{j} - h^{z}\\sum_{i=1}^{N}\\sigma^{z}_{i} \n",
    "\\end{equation}\n",
    "\n",
    "### The Antiferromagnetic Case\n",
    "\n",
    "\\begin{equation}\n",
    "\\hat{H} = \\sum_{\\left<ij\\right>} J \\hat{\\sigma}^{z}_{i}\\hat{\\sigma}^{z}_{j} \n",
    "\\end{equation}"
   ]
  },
  {
   "cell_type": "markdown",
   "metadata": {},
   "source": [
    "Following $J=1$ and $k_B = 1$"
   ]
  },
  {
   "cell_type": "code",
   "execution_count": null,
   "metadata": {},
   "outputs": [],
   "source": [
    "%%tikz -s 400,400 -sc 1.2 -f png\n",
    "\\tikzset{every node/.style={font=\\sffamily}, >=stealth, scale=1.0};\n",
    "\\draw [style=help lines, step=2]\t\t\t\t(-1,-1)\tgrid\t\t(+7,+7);\n",
    "\\draw [line width=0.5mm, fill=blue!40!white]\t(+2,+2)\trectangle\t(+4,+4);\n",
    " \n",
    "\\filldraw [color=gray]\t(0,0) circle (.1);\n",
    "\\filldraw [color=gray]\t(0,2) circle (.1);\n",
    "\\filldraw [color=gray]\t(0,4) circle (.1);\n",
    "\\filldraw [color=gray]\t(0,6) circle (.1);\n",
    "\\filldraw [color=gray]\t(2,0) circle (.1);\n",
    "\\filldraw [color=black]\t(2,2) circle (.1);\n",
    "\\filldraw [color=black]\t(2,4) circle (.1);\n",
    "\\filldraw [color=gray]\t(2,6) circle (.1);\n",
    "\\filldraw [color=gray]\t(4,0) circle (.1);\n",
    "\\filldraw [color=black]\t(4,2) circle (.1);\n",
    "\\filldraw [color=black]\t(4,4) circle (.1);\n",
    "\\filldraw [color=gray]\t(4,6) circle (.1);\n",
    "\\filldraw [color=gray]\t(6,0) circle (.1);\n",
    "\\filldraw [color=gray]\t(6,2) circle (.1);\n",
    "\\filldraw [color=gray]\t(6,4) circle (.1);\n",
    "\\filldraw [color=gray]\t(6,6) circle (.1);\n",
    "\n",
    "\\draw [blue!60!white] (  2,  2) node[anchor=north east] {$(i  ,j  )$};\n",
    "\\draw [blue!60!white] (  4,  2) node[anchor=north west] {$(i+1,j  )$};\n",
    "\\draw [blue!60!white] (  4,  4) node[anchor=south west] {$(i+1,j+1)$};\n",
    "\\draw [blue!60!white] (  2,  4) node[anchor=south east] {$(i  ,j+1)$};"
   ]
  },
  {
   "cell_type": "markdown",
   "metadata": {},
   "source": [
    "## Mean Field Decoupling"
   ]
  },
  {
   "cell_type": "markdown",
   "metadata": {},
   "source": [
    "## Self-Consistency (Direct Iteration) Procedure"
   ]
  },
  {
   "cell_type": "markdown",
   "metadata": {},
   "source": [
    "### Self-Consistency Equations"
   ]
  },
  {
   "cell_type": "markdown",
   "metadata": {},
   "source": [
    "\\begin{equation}\n",
    "m_a = \\left< \\hat{\\sigma}^{z}_{i\\in a}\\right> = - \\tanh{\\left(\\frac{4 m_b}{T}\\right)}\n",
    "\\end{equation}"
   ]
  },
  {
   "cell_type": "code",
   "execution_count": null,
   "metadata": {
    "collapsed": true
   },
   "outputs": [],
   "source": [
    "def ma_SCE(m_b, T):\n",
    "    return( - np.tanh(m_b*4.0/T))"
   ]
  },
  {
   "cell_type": "markdown",
   "metadata": {},
   "source": [
    "\\begin{equation}\n",
    "m_b = \\left< \\hat{\\sigma}^{z}_{i\\in b}\\right> = - \\tanh{\\left(\\frac{4 m_a}{T}\\right)}\n",
    "\\end{equation}"
   ]
  },
  {
   "cell_type": "code",
   "execution_count": null,
   "metadata": {
    "collapsed": true
   },
   "outputs": [],
   "source": [
    "def mb_SCE(m_a, T):\n",
    "    return( - np.tanh(m_a*4.0/T))"
   ]
  },
  {
   "cell_type": "markdown",
   "metadata": {},
   "source": [
    "### Direct Iteration "
   ]
  },
  {
   "cell_type": "code",
   "execution_count": null,
   "metadata": {},
   "outputs": [],
   "source": [
    "fig = plt.figure(figsize=(10,5))\n",
    "ax = fig.add_subplot(2,1,1)\n",
    "\n",
    "m_a_guess = 0.7\n",
    "m_b_guess = -0.7\n",
    "\n",
    "iter_max = 100\n",
    "iter_ctr = 0\n",
    "\n",
    "conv_boolflag = False\n",
    "\n",
    "T = 3.0\n",
    "iter_loopdata = np.zeros((1,3))\n",
    "\n",
    "m_a = m_a_guess\n",
    "m_b = m_b_guess\n",
    "\n",
    "iter_loopdata[0][0] = 0.0\n",
    "iter_loopdata[0][1] = m_a\n",
    "iter_loopdata[0][2] = m_b\n",
    "\n",
    "while iter_ctr < iter_max and not conv_boolflag:\n",
    "    iter_ctr = iter_ctr + 1\n",
    "        \n",
    "    m_b = ma_SCE(m_b,T)\n",
    "    m_a = mb_SCE(m_a,T)\n",
    "        \n",
    "#    print(\"Loop[{0:3.3f}]:, m_a: {1:3.3f}, m_b: {2:3.3f}\\n\".format(iter_ctr, m_a, m_b))\n",
    "\n",
    "    temp = np.concatenate(([m_a],[m_b]), axis=0)\n",
    "    temp = np.concatenate(([iter_ctr], temp), axis=0)\n",
    "    iter_loopdata = np.vstack([iter_loopdata,temp])\n",
    "    \n",
    "#iter_loopdata = np.delete(iter_loopdata, 0, 0)\n",
    "\n",
    "ax.set_xlabel('step', fontsize=18, fontweight='bold')\n",
    "ax.set_ylabel('$m_X$', fontsize=18, fontweight='bold')\n",
    "ax.set_ylim([-1.0,1.0])\n",
    "\n",
    "plt.plot([i[0] for i in iter_loopdata], [i[1] for i in iter_loopdata], color='red', label=\"$m_a$\", linestyle=' ', marker = 'v', linewidth=2.0)\n",
    "plt.plot([i[0] for i in iter_loopdata], [i[2] for i in iter_loopdata], color='blue', label=\"$m_b$\", linestyle=' ', marker = 'o', linewidth=2.0)\n",
    "\n",
    "plt.legend(loc=0, ncol=2)\n",
    "\n",
    "plt.grid(True)\n",
    "\n",
    "ax2 = fig.add_subplot(2,1,2)\n",
    "\n",
    "m_a_guess = 0.7\n",
    "m_b_guess = -0.7\n",
    "\n",
    "iter_max = 100\n",
    "iter_ctr = 0\n",
    "\n",
    "conv_boolflag = False\n",
    "\n",
    "T = 4.5\n",
    "iter_loopdata = np.zeros((1,3))\n",
    "\n",
    "m_a = m_a_guess\n",
    "m_b = m_b_guess\n",
    "\n",
    "iter_loopdata[0][0] = 0.0\n",
    "iter_loopdata[0][1] = m_a\n",
    "iter_loopdata[0][2] = m_b\n",
    "\n",
    "while iter_ctr < iter_max and not conv_boolflag:\n",
    "    iter_ctr = iter_ctr + 1\n",
    "        \n",
    "    m_b = ma_SCE(m_b,T)\n",
    "    m_a = mb_SCE(m_a,T)\n",
    "        \n",
    "#    print(\"Loop[{0:3.3f}]:, m_a: {1:3.3f}, m_b: {2:3.3f}\\n\".format(iter_ctr, m_a, m_b))\n",
    "\n",
    "    temp = np.concatenate(([m_a],[m_b]), axis=0)\n",
    "    temp = np.concatenate(([iter_ctr], temp), axis=0)\n",
    "    iter_loopdata = np.vstack([iter_loopdata,temp])\n",
    "    \n",
    "#iter_loopdata = np.delete(iter_loopdata, 0, 0)\n",
    "\n",
    "ax2.set_xlabel('step', fontsize=18, fontweight='bold')\n",
    "ax2.set_ylabel('$m_X$', fontsize=18, fontweight='bold')\n",
    "ax2.set_ylim([-1.0,1.0])\n",
    "\n",
    "plt.plot([i[0] for i in iter_loopdata], [i[1] for i in iter_loopdata], color='red', label=\"$m_a$\", linestyle=' ', marker = 'v', linewidth=2.0)\n",
    "plt.plot([i[0] for i in iter_loopdata], [i[2] for i in iter_loopdata], color='blue', label=\"$m_b$\", linestyle=' ', marker = 'o', linewidth=2.0)\n",
    "\n",
    "plt.legend(loc=0, ncol=2)\n",
    "\n",
    "plt.grid(True)\n",
    "\n",
    "\n",
    "plt.tight_layout()\n",
    "plt.show()\n"
   ]
  },
  {
   "cell_type": "code",
   "execution_count": null,
   "metadata": {},
   "outputs": [],
   "source": [
    "T_steps = np.linspace(0.5, 6.1, 50, endpoint=True)\n",
    "result_SC = np.zeros((1,3))\n",
    "\n",
    "eps = 1e-8\n",
    "\n",
    "m_a_guess = 1.0\n",
    "m_b_guess = -1.0\n",
    "\n",
    "iter_max = 200\n",
    "iter_ctr = 0\n",
    "\n",
    "conv_boolflag = False\n",
    "\n",
    "m_a = m_a_guess\n",
    "m_b = m_b_guess\n",
    "\n",
    "old_m_a = 10.0\n",
    "old_m_b = 10.0\n",
    "\n",
    "for T_run in T_steps:\n",
    "    \n",
    "    iter_ctr = 0\n",
    "    conv_boolflag = False\n",
    "    \n",
    "    while iter_ctr < iter_max and not conv_boolflag:\n",
    "        iter_ctr = iter_ctr + 1\n",
    "        \n",
    "        m_b = ma_SCE(m_b,T_run)\n",
    "        m_a = mb_SCE(m_a,T_run)\n",
    "\n",
    "        if( abs(m_b - old_m_b) <= eps and abs(m_a - old_m_a) <= eps ):\n",
    "            conv_boolflag = True\n",
    "            break\n",
    "        else:\n",
    "            old_m_a = m_a\n",
    "            old_m_b = m_b\n",
    "\n",
    "    temp = np.concatenate(([m_a],[m_b],[T_run]), axis=0)\n",
    "    result_SC = np.vstack([result_SC,temp])\n",
    "    \n",
    "result_SC = np.delete(result_SC, 0, 0)"
   ]
  },
  {
   "cell_type": "code",
   "execution_count": null,
   "metadata": {},
   "outputs": [],
   "source": [
    "fig = plt.figure(figsize=(10,5))\n",
    "ax = fig.add_subplot(111)\n",
    "\n",
    "ax.set_xlabel('$T$', fontsize=18, fontweight='bold')\n",
    "ax.set_ylabel('$m_X$', fontsize=18, fontweight='bold')\n",
    "ax.set_ylim([-1.5,1.5])\n",
    "\n",
    "plt.plot([i[2] for i in result_SC], [i[0] for i in result_SC], color='red', label=\"$m_a$\", linestyle='--', linewidth=2.0)\n",
    "plt.plot([i[2] for i in result_SC], [i[1] for i in result_SC], color='blue', label=\"$m_b$\", linestyle='--', linewidth=2.0)\n",
    "\n",
    "plt.legend(ncol = 2)\n",
    "\n",
    "plt.grid(True)\n",
    "plt.show()"
   ]
  },
  {
   "cell_type": "markdown",
   "metadata": {},
   "source": [
    "## Free Energy Landscape"
   ]
  },
  {
   "cell_type": "code",
   "execution_count": null,
   "metadata": {
    "collapsed": true
   },
   "outputs": [],
   "source": [
    "def Free_Energy_SC(m,T):\n",
    "    m_a = m[0]\n",
    "    m_b = m[1]\n",
    "    return(-2.0*m_a*m_b - 0.5*(1.0/T)*np.log(4.0*np.cosh(m_a*4.0/T)*np.cosh(m_b*4.0/T)) )"
   ]
  },
  {
   "cell_type": "code",
   "execution_count": null,
   "metadata": {
    "collapsed": true
   },
   "outputs": [],
   "source": [
    "def Free_Energy_SC_Lineplot(m_a,T):\n",
    "    m_b = -m_a\n",
    "    return(-2.0*m_a*m_b - 0.5*(1.0/T)*np.log(4.0*np.cosh(m_a*4.0/T)*np.cosh(m_b*4.0/T)) )"
   ]
  },
  {
   "cell_type": "code",
   "execution_count": null,
   "metadata": {},
   "outputs": [],
   "source": [
    "fig = plt.figure(num='Free Energy Landscape')\n",
    "\n",
    "T = 1.3\n",
    "\n",
    "ax = fig.add_subplot(2, 2, 1, projection='3d')\n",
    "\n",
    "ax.set_title(\"Free Energy Landscape\")\n",
    "ax.set_xlabel(\"$m_a$\")\n",
    "ax.set_ylabel(\"$m_b$\")\n",
    "ax.set_zlabel(\"$\\phi(m_a,m_b)$\")\n",
    "\n",
    "m_a = np.linspace(-1.0, 1.0, 30, endpoint=True)\n",
    "m_b = np.linspace(-1.0, 1.0, 30, endpoint=True)\n",
    "m_a, m_b = np.meshgrid(m_a, m_b)\n",
    "FEL = Free_Energy_SC((m_a, m_b),T)\n",
    "\n",
    "surface = ax.plot_surface(m_a, m_b, FEL, cmap=cm.jet, rstride=1, cstride=1,\n",
    "                          linewidth=0, antialiased=False)\n",
    "\n",
    "fig.colorbar(surface, shrink=0.5, aspect=10)\n",
    "\n",
    "ax2 = fig.add_subplot(2, 2, 2)\n",
    "\n",
    "ax2.set_title(\"Lineplot $m_b = -m_a $\")\n",
    "ax2.set_xlabel(\"$m_a$\")\n",
    "ax2.set_ylabel(\"$\\phi(m_a,-m_a)$\")\n",
    "ax2.grid(True)\n",
    "\n",
    "m_a = np.linspace(-1.0, 1.0, 50, endpoint=True)\n",
    "FEL = Free_Energy_SC_Lineplot(m_a,T)\n",
    "\n",
    "ax2.plot(m_a, FEL, 'bo--')\n",
    "\n",
    "T = 4.0\n",
    "\n",
    "ax = fig.add_subplot(2, 2, 3, projection='3d')\n",
    "\n",
    "ax.set_title(\"Free Energy Landscape\")\n",
    "ax.set_xlabel(\"$m_a$\")\n",
    "ax.set_ylabel(\"$m_b$\")\n",
    "ax.set_zlabel(\"$\\phi(m_a,m_b)$\")\n",
    "\n",
    "m_a = np.linspace(-1.0, 1.0, 30, endpoint=True)\n",
    "m_b = np.linspace(-1.0, 1.0, 30, endpoint=True)\n",
    "m_a, m_b = np.meshgrid(m_a, m_b)\n",
    "FEL = Free_Energy_SC((m_a, m_b),T)\n",
    "\n",
    "surface = ax.plot_surface(m_a, m_b, FEL, cmap=cm.jet, rstride=1, cstride=1,\n",
    "                          linewidth=0, antialiased=False)\n",
    "\n",
    "fig.colorbar(surface, shrink=0.5, aspect=10)\n",
    "\n",
    "ax2 = fig.add_subplot(2, 2, 4)\n",
    "\n",
    "ax2.set_title(\"Lineplot $m_b = -m_a $\")\n",
    "ax2.set_xlabel(\"$m_a$\")\n",
    "ax2.set_ylabel(\"$\\phi(m_a,-m_a)$\")\n",
    "ax2.grid(True)\n",
    "\n",
    "m_a = np.linspace(-1.0, 1.0, 50, endpoint=True)\n",
    "FEL = Free_Energy_SC_Lineplot(m_a,T)\n",
    "\n",
    "ax2.plot(m_a, LF, 'bo--')\n",
    "\n",
    "plt.tight_layout()\n",
    "\n",
    "plt.show()"
   ]
  },
  {
   "cell_type": "markdown",
   "metadata": {
    "nbpresent": {
     "id": "2764f16d-54d0-4332-b28c-c7a4e33a5b68"
    }
   },
   "source": [
    "## Variational Procedure"
   ]
  },
  {
   "cell_type": "markdown",
   "metadata": {},
   "source": [
    "### Landau Functional"
   ]
  },
  {
   "cell_type": "code",
   "execution_count": null,
   "metadata": {
    "collapsed": true
   },
   "outputs": [],
   "source": [
    "def Landau_Functional(m, T):\n",
    "    m_a = m[0]\n",
    "    m_b = m[1]\n",
    "    return (T/2.0)*(-np.log(4.0*np.cosh(m_a*4.0/T)*np.cosh(m_b*4.0/T))\\\n",
    "                    +(4.0/T)*np.tanh(m_a*4.0/T)*np.tanh(m_b*4.0/T)\\\n",
    "                    +(4.0/T)*(m_a*np.tanh(m_a*4.0/T) + m_b*np.tanh(m_b*4.0/T)))"
   ]
  },
  {
   "cell_type": "code",
   "execution_count": null,
   "metadata": {
    "collapsed": true
   },
   "outputs": [],
   "source": [
    "def Landau_Functional_Lineplot(m_a, T):\n",
    "    m_b = -m_a\n",
    "    return (T/2.0)*(-np.log(4.0*np.cosh(m_a*4.0/T)*np.cosh(m_b*4.0/T))\\\n",
    "                    +(4.0/T)*np.tanh(m_a*4.0/T)*np.tanh(m_b*4.0/T)\\\n",
    "                    +(4.0/T)*(m_a*np.tanh(m_a*4.0/T) + m_b*np.tanh(m_b*4.0/T)))"
   ]
  },
  {
   "cell_type": "code",
   "execution_count": null,
   "metadata": {},
   "outputs": [],
   "source": [
    "fig = plt.figure(num='Landau Functional')\n",
    "\n",
    "T = 3.0\n",
    "\n",
    "ax = fig.add_subplot(2, 2, 1, projection='3d')\n",
    "\n",
    "ax.set_title(\"Landau Functional\")\n",
    "ax.set_xlabel(\"$m_a$\")\n",
    "ax.set_ylabel(\"$m_b$\")\n",
    "ax.set_zlabel(\"$\\phi(m_a,m_b)$\")\n",
    "\n",
    "m_a = np.linspace(-1.0, 1.0, 30, endpoint=True)\n",
    "m_b = np.linspace(-1.0, 1.0, 30, endpoint=True)\n",
    "m_a, m_b = np.meshgrid(m_a, m_b)\n",
    "LF = Landau_Functional((m_a, m_b),T)\n",
    "\n",
    "surface = ax.plot_surface(m_a, m_b, LF, cmap=cm.jet, rstride=1, cstride=1,\n",
    "                          linewidth=0, antialiased=False)\n",
    "\n",
    "fig.colorbar(surface, shrink=0.5, aspect=10)\n",
    "\n",
    "ax2 = fig.add_subplot(2, 2, 2)\n",
    "\n",
    "ax2.set_title(\"Lineplot $m_b = -m_a $\")\n",
    "ax2.set_xlabel(\"$m_a$\")\n",
    "ax2.set_ylabel(\"$\\phi(m_a,-m_a)$\")\n",
    "ax2.grid(True)\n",
    "\n",
    "m_a = np.linspace(-1.0, 1.0, 50, endpoint=True)\n",
    "LF = Landau_Functional_Lineplot(m_a,T)\n",
    "\n",
    "ax2.plot(m_a, LF, 'bo--')\n",
    "\n",
    "T = 4.5\n",
    "\n",
    "ax = fig.add_subplot(2, 2, 3, projection='3d')\n",
    "\n",
    "ax.set_title(\"Landau Functional\")\n",
    "ax.set_xlabel(\"$m_a$\")\n",
    "ax.set_ylabel(\"$m_b$\")\n",
    "ax.set_zlabel(\"$\\phi(m_a,m_b)$\")\n",
    "\n",
    "m_a = np.linspace(-1.0, 1.0, 30, endpoint=True)\n",
    "m_b = np.linspace(-1.0, 1.0, 30, endpoint=True)\n",
    "m_a, m_b = np.meshgrid(m_a, m_b)\n",
    "LF = Landau_Functional((m_a, m_b),T)\n",
    "\n",
    "surface = ax.plot_surface(m_a, m_b, LF, cmap=cm.jet, rstride=1, cstride=1,\n",
    "                          linewidth=0, antialiased=False)\n",
    "\n",
    "fig.colorbar(surface, shrink=0.5, aspect=10)\n",
    "\n",
    "ax2 = fig.add_subplot(2, 2, 4)\n",
    "\n",
    "ax2.set_title(\"Lineplot $m_b = -m_a $\")\n",
    "ax2.set_xlabel(\"$m_a$\")\n",
    "ax2.set_ylabel(\"$\\phi(m_a,-m_a)$\")\n",
    "ax2.grid(True)\n",
    "\n",
    "m_a = np.linspace(-1.0, 1.0, 50, endpoint=True)\n",
    "LF = Landau_Functional_Lineplot(m_a,T)\n",
    "\n",
    "ax2.plot(m_a, LF, 'bo--')\n",
    "\n",
    "plt.tight_layout()\n",
    "\n",
    "plt.show()"
   ]
  },
  {
   "cell_type": "markdown",
   "metadata": {},
   "source": [
    "### Minimization"
   ]
  },
  {
   "cell_type": "code",
   "execution_count": null,
   "metadata": {},
   "outputs": [],
   "source": [
    "T_steps = np.linspace(0.5, 6.1, 50, endpoint=True)\n",
    "result = np.zeros((1,4))\n",
    "m = [0.0,0.0]\n",
    "\n",
    "for T_run in T_steps:\n",
    "    res = minimize(Landau_Functional, m, args=(T_run),\\\n",
    "                             method='Nelder-Mead', tol=1e-8,\\\n",
    "                             callback=None, options={'disp': False,\\\n",
    "                                                     'maxiter': None,\\\n",
    "                                                     'return_all': False,\\\n",
    "                                                     'maxfev': None,\\\n",
    "                                                     'xtol': 0.0001,\\\n",
    "                                                     'ftol': 0.0001})\n",
    "#    print(res.x)\n",
    "#    print(res.fun)\n",
    "    temp = np.concatenate((res.x,[res.fun]), axis=0)\n",
    "    temp = np.concatenate((temp,[T_run]), axis=0)\n",
    "    result = np.vstack([result,temp])\n",
    "\n",
    "result = np.delete(result, 0, 0)"
   ]
  },
  {
   "cell_type": "code",
   "execution_count": null,
   "metadata": {},
   "outputs": [],
   "source": [
    "fig = plt.figure(figsize=(10,5))\n",
    "ax = fig.add_subplot(111)\n",
    "\n",
    "ax.set_xlabel('$T$', fontsize=18, fontweight='bold')\n",
    "ax.set_ylabel('$m_X$', fontsize=18, fontweight='bold')\n",
    "\n",
    "plt.plot([i[3] for i in result], [i[0] for i in result], color='red', label=\"$m_a$\", linestyle='--', linewidth=2.0)\n",
    "plt.plot([i[3] for i in result], [i[1] for i in result], color='blue', label=\"$m_b$\", linestyle='--', linewidth=2.0)\n",
    "\n",
    "plt.legend(ncol = 2)\n",
    "\n",
    "plt.grid(True)\n",
    "plt.show()"
   ]
  },
  {
   "cell_type": "code",
   "execution_count": null,
   "metadata": {
    "collapsed": true,
    "nbpresent": {
     "id": "1cb75747-f422-4781-8d4a-aca0494de185"
    }
   },
   "outputs": [],
   "source": [
    "fig, axs = plt.subplots(2,3)\n",
    "\n",
    "m = np.linspace(-1.0, 1.0, 30, endpoint=True)\n",
    "q = np.linspace(0.0, 2.0, 30, endpoint=True)\n",
    "m, q = np.meshgrid(m, q)\n",
    "\n",
    "axs[0][0].set_title(\"$U = 1.0$, $\\mu = 0.0$\")\n",
    "axs[0][0].set_xlabel(\"$m_{AFM}$\")\n",
    "axs[0][0].set_ylabel(\"$q$\")\n",
    "\n",
    "Z = F_afm(q, m, t, 1.0, 0.0)\n",
    "levels = np.linspace(-2.0, -1.5, 100)\n",
    "\n",
    "cs = axs[0][0].contourf(m, q, Z, levels=levels, cmap=cm.jet)\n",
    "fig.colorbar(cs, ax=axs[0][0], format=\"%.2f\")\n",
    "\n",
    "axs[0][1].set_title(\"$U = 5.0$, $\\mu = 0.0$\")\n",
    "\n",
    "Z = F_afm(q, m, t, 5.0, 0.0)\n",
    "levels = np.linspace(-4, -1.5, 100)\n",
    "\n",
    "cs = axs[0][1].contourf(m, q, Z, levels=levels, cmap=cm.jet)\n",
    "fig.colorbar(cs, ax=axs[0][1], format=\"%.2f\")\n",
    "\n",
    "axs[0][2].set_title(\"$U = 10.0$, $\\mu = 0.0$\")\n",
    "\n",
    "Z = F_afm(q, m, t, 10.0, 0.0)\n",
    "levels = np.linspace(-7.5, -1.5, 100)\n",
    "\n",
    "cs = axs[0][2].contourf(m, q, Z, levels=levels, cmap=cm.jet)\n",
    "fig.colorbar(cs, ax=axs[0][2], format=\"%.2f\")\n",
    "\n",
    "axs[1][0].set_title(\"$U = 10.0$, $\\mu = 5.0$\")\n",
    "\n",
    "Z = F_afm(q, m, t, 10.0, 5.0)\n",
    "levels = np.linspace(-12.5, -2.5, 100)\n",
    "\n",
    "cs = axs[1][0].contourf(m, q, Z, levels=levels, cmap=cm.jet)\n",
    "fig.colorbar(cs, ax=axs[1][0], format=\"%.2f\")\n",
    "\n",
    "axs[1][1].set_title(\"$U = 10.0$, $\\mu = 3.0$\")\n",
    "\n",
    "Z = F_afm(q, m, t, 10.0, 3.0)\n",
    "levels = np.linspace(-10.5, -2.0, 100)\n",
    "\n",
    "cs = axs[1][1].contourf(m, q, Z, levels=levels, cmap=cm.jet)\n",
    "fig.colorbar(cs, ax=axs[1][1], format=\"%.2f\")\n",
    "\n",
    "axs[1][2].set_title(\"$U = 10.0$, $\\mu = 1.0$\")\n",
    "\n",
    "Z = F_afm(q, m, t, 10.0, 1.0)\n",
    "levels = np.linspace(-10.0, -1.5, 100)\n",
    "\n",
    "cs = axs[1][2].contourf(m, q, Z, levels=levels, cmap=cm.jet)\n",
    "fig.colorbar(cs, ax=axs[1][2], format=\"%.2f\")\n",
    "\n",
    "plt.tight_layout()\n",
    "plt.show()"
   ]
  },
  {
   "cell_type": "markdown",
   "metadata": {
    "collapsed": true,
    "nbpresent": {
     "id": "06a56111-18b1-43f3-a81b-6660dda69e06"
    }
   },
   "source": [
    "## Saddle Point Search"
   ]
  },
  {
   "cell_type": "markdown",
   "metadata": {
    "nbpresent": {
     "id": "548e6304-be18-4a1c-834f-f08079e32076"
    }
   },
   "source": [
    "Maximize F with respect to q for fixed m and then fix q at found max. and minimize F with respect to m.\n",
    "Repeat until convergence"
   ]
  },
  {
   "cell_type": "code",
   "execution_count": null,
   "metadata": {
    "collapsed": true,
    "nbpresent": {
     "id": "92f2d8ae-0f08-4438-8237-b7422dd90a91"
    }
   },
   "outputs": [],
   "source": [
    "def F_afm_max_for_q(q, m, t, U, mu):\n",
    "    return -F_afm(q, m, t, U, mu)\n",
    "def F_afm_min_for_m(m, q, t, U, mu):\n",
    "    return F_afm(q, m, t, U, mu)\n",
    "\n",
    "def F_fm_max_for_q(q, m, t, U, mu):\n",
    "    return -F_fm(q, m, t, U, mu)\n",
    "def F_fm_min_for_m(m, q, t, U, mu):\n",
    "    return F_fm(q, m, t, U, mu)\n",
    "\n",
    "def F_pm_max_for_q(q, t, U, mu):\n",
    "    return -F_pm(q, t, U, mu)"
   ]
  },
  {
   "cell_type": "code",
   "execution_count": null,
   "metadata": {
    "collapsed": true,
    "nbpresent": {
     "id": "9390ed35-ebc3-4047-b99b-2dab706b68d1"
    }
   },
   "outputs": [],
   "source": [
    "mu_array = np.linspace(-4.0, 4.0, 81, endpoint=True)\n",
    "result_afm = np.zeros((0,4))\n",
    "result_fm = np.zeros((0,4))\n",
    "result_pm = np.zeros((0,3))\n",
    "m_global_guess = 1.0\n",
    "q_global_guess = 1.0"
   ]
  },
  {
   "cell_type": "code",
   "execution_count": null,
   "metadata": {
    "collapsed": true,
    "nbpresent": {
     "id": "b1a106a3-49b5-4189-b63e-8162d8be7c1f"
    }
   },
   "outputs": [],
   "source": [
    "def free_energy_afm(mu, t, U):\n",
    "    global result_afm\n",
    "    global m_global_guess\n",
    "    global q_global_guess\n",
    "    \n",
    "    m_old = 2.0\n",
    "    m_new = m_global_guess\n",
    "\n",
    "    q_old = 8.0\n",
    "    q_new = q_global_guess\n",
    "\n",
    "    eps = 1e-2\n",
    "\n",
    "    max_run = 10\n",
    "    i = 0\n",
    "    \n",
    "    old_mag_arr = np.zeros(2)\n",
    "    \n",
    "    print(\"WhileLoop:\", sep=' ', end =\"\\n\", flush=True)\n",
    "    \n",
    "    no_saddle_point = False\n",
    "    \n",
    "    while i < max_run and (np.fabs(m_old - m_new) > eps or np.fabs(q_old - q_new) > eps):\n",
    "        \n",
    "        i = i + 1\n",
    "        print(i, sep=' ', end =\" \", flush=True)\n",
    "\n",
    "        print(q_new, sep=' ', end = \" \", flush=True)\n",
    "        print(m_new, sep=' ', end = \" \", flush=True)\n",
    "        \n",
    "        q_old = q_new\n",
    "        result_max_for_q = minimize(F_afm_max_for_q, 1.0, args=(m_new, t, U, mu), method='trust-ncg', tol=1e-8)\n",
    "        q_new = result_max_for_q.x\n",
    "        print(q_new, sep=' ', end = \" \", flush=True)\n",
    "        \n",
    "        m_old = m_new\n",
    "        result_min_for_m = minimize(F_afm_min_for_m, 1.0, args=(q_new, t, U, mu), method='trust-ncg', tol=1e-8)\n",
    "        m_new = result_min_for_m.x\n",
    "        print(m_new, sep=' ', end = \" \", flush=True)\n",
    "        \n",
    "        if (np.fabs(m_new-old_mag_arr[1]) < 1e-5) and np.fabs(m_new - old_mag_arr[0]) > 0.5:\n",
    "            m_new = 0.5*(old_mag_arr[0] + old_mag_arr[1]) \n",
    "            print('\\n found 2 loop', m_new)\n",
    "            #no_saddle_point = True\n",
    "            #break\n",
    "    \n",
    "        old_mag_arr[1] = old_mag_arr[0]\n",
    "        old_mag_arr[0] = m_new\n",
    "        \n",
    "        print( F_afm(q_new, m_new, t, U, mu), end = \"\\n\", flush=True)\n",
    "\n",
    "    if(not no_saddle_point):\n",
    "        F = F_afm(q_new, m_new, t, U, mu)\n",
    "        m_global_guess = m_new\n",
    "        q_global_guess = q_new\n",
    "        result_afm = np.vstack([result_afm,[mu,q_new,m_new,F]])\n",
    "    else:\n",
    "        F = 0\n",
    "        q_new = 0\n",
    "        m_new = 0\n",
    "        result_afm = np.vstack([result_afm,[mu,q_new,m_new,F]])\n",
    "    \n",
    "    print(\"\\nMu: {0:3.3f}, q: {1:3.3f}, m: {2:3.3f}, F: {3:3.3f}\\n\\n\".format(mu, q_new, m_new, F))\n",
    "    return(F)\n",
    "\n",
    "def free_energy_fm(mu, t, U):\n",
    "    global result_fm\n",
    "    global m_global_guess\n",
    "    global q_global_guess\n",
    "    \n",
    "    m_old = 2.0\n",
    "    m_new = m_global_guess\n",
    "\n",
    "    q_old = 8.0\n",
    "    q_new = q_global_guess\n",
    "\n",
    "    eps = 1e-2\n",
    "\n",
    "    max_run = 10\n",
    "    i = 0\n",
    "    \n",
    "    old_mag_arr = np.zeros(2)\n",
    "\n",
    "    print(\"WhileLoop:\", sep=' ', end =\"\\n\", flush=True)\n",
    "    \n",
    "    no_saddle_point = False\n",
    "    \n",
    "    while i < max_run and (np.fabs(m_old - m_new) > eps or np.fabs(q_old - q_new) > eps):\n",
    "        \n",
    "        i = i + 1\n",
    "        print(i, sep=' ', end =\" \", flush=True)\n",
    "        \n",
    "        print(q_new, sep=' ', end = \" \", flush=True)\n",
    "        print(m_new, sep=' ', end = \" \", flush=True)\n",
    "    \n",
    "        q_old = q_new\n",
    "\n",
    "        result_max_for_q = minimize_scalar(F_fm_max_for_q, bracket=(0.0, 2.0), args=(m_new, t, U, mu), method='brent', options={'xtol': 1e-8})\n",
    "        q_new = result_max_for_q.x\n",
    "        print(q_new, sep=' ', end = \" \", flush=True)\n",
    "        \n",
    "        m_old = m_new\n",
    "\n",
    "        result_min_for_m = minimize_scalar(F_fm_min_for_m, bracket=(-1.0, 1.0), args=(q_new, t, U, mu), method='brent', options={'xtol': 1e-8})\n",
    "        m_new = result_min_for_m.x\n",
    "        print(m_new, sep=' ', end = \" \", flush=True)\n",
    "        \n",
    "        if (np.fabs(m_new-old_mag_arr[1]) < 1e-5) and np.fabs(m_new - old_mag_arr[0]) > 0.5:\n",
    "            m_new = 0.8*(old_mag_arr[0] + old_mag_arr[1]) \n",
    "            print('\\n found 2 loop', m_new)\n",
    "            no_saddle_point = True\n",
    "            break\n",
    "    \n",
    "        old_mag_arr[1] = old_mag_arr[0]\n",
    "        old_mag_arr[0] = m_new\n",
    "        \n",
    "        print( F_fm(q_new, m_new, t, U, mu), end = \"\\n\", flush=True)\n",
    "\n",
    "    if(not no_saddle_point):\n",
    "        F = F_fm(q_new, m_new, t, U, mu)\n",
    "        m_global_guess = m_new\n",
    "        q_global_guess = q_new\n",
    "        result_fm = np.vstack([result_fm,[mu,q_new,m_new,F]])\n",
    "    else:\n",
    "        F = 0\n",
    "        q_new = 0\n",
    "        m_new = 0\n",
    "        result_fm = np.vstack([result_fm,[mu,q_new,m_new,F]])\n",
    "    \n",
    "    print(\"\\nMu: {0:3.3f}, q: {1:3.3f}, m: {2:3.3f}, F: {3:3.3f}\\n\\n\".format(mu, q_new, m_new, F))\n",
    "    return(F)\n",
    "\n",
    "def free_energy_pm(mu, t, U):\n",
    "    global result_pm\n",
    "    \n",
    "    result_max_for_q = minimize_scalar(F_pm_max_for_q, bracket=(0.0, 2.0), args=(t, U, mu), method='brent', options={'xtol': 1e-8})\n",
    "    q_new = result_max_for_q.x\n",
    "        \n",
    "    F = F_pm(q_new, t, U, mu)\n",
    "    print(\"Mu: {0:3.3f}, q: {1:3.3f}, F: {2:3.3f}\\n\".format(mu, q_new, F))\n",
    "    result_pm = np.vstack([result_pm,[mu,q_new,F]])\n",
    "    \n",
    "    return(F)"
   ]
  },
  {
   "cell_type": "code",
   "execution_count": null,
   "metadata": {
    "collapsed": true,
    "nbpresent": {
     "id": "efdbf322-8dfc-48e3-a564-0c54ebd73d8f"
    }
   },
   "outputs": [],
   "source": [
    "mu_array = np.linspace(-1.0, 1.0, 11, endpoint=True)\n",
    "for mu in mu_array:\n",
    "    free_energy_pm(mu, t, U)"
   ]
  },
  {
   "cell_type": "code",
   "execution_count": null,
   "metadata": {
    "collapsed": true,
    "nbpresent": {
     "id": "3c1d1dd2-7501-45ab-a6eb-8dbb5926d549"
    }
   },
   "outputs": [],
   "source": [
    "#teams_list = [\"Mu\", \"q\", \"m\", \"F\"]\n",
    "#teams_list = [\"Mu\", \"q\", \"F\"]\n",
    "#pandas.DataFrame(result_fm, mu_array, teams_list)\n",
    "result_pm"
   ]
  },
  {
   "cell_type": "markdown",
   "metadata": {
    "collapsed": true,
    "nbpresent": {
     "id": "c41471e2-e5a4-42fb-b94c-c74269ad7cc8"
    }
   },
   "source": [
    "### Derivatives"
   ]
  },
  {
   "cell_type": "code",
   "execution_count": null,
   "metadata": {
    "collapsed": true,
    "nbpresent": {
     "id": "7325582b-1d7d-419e-ae01-a0fa78430b76"
    }
   },
   "outputs": [],
   "source": [
    "deriv_afm = np.zeros(len(mu_array))\n",
    "deriv_fm = np.zeros(len(mu_array))\n",
    "deriv_pm = np.zeros(len(mu_array))"
   ]
  },
  {
   "cell_type": "code",
   "execution_count": null,
   "metadata": {
    "collapsed": true,
    "nbpresent": {
     "id": "5320d36f-b44a-44ff-91d3-7edea333118b"
    }
   },
   "outputs": [],
   "source": [
    "for count, mu_run in enumerate(mu_array):\n",
    "    deriv_pm[count] = derivative(free_energy_pm, mu_run, dx=1e-2, args=(t,U))"
   ]
  },
  {
   "cell_type": "code",
   "execution_count": null,
   "metadata": {
    "collapsed": true,
    "nbpresent": {
     "id": "f8448fd2-4303-4309-9c24-575b28d79bfb"
    }
   },
   "outputs": [],
   "source": [
    "result_afm = np.load('afm_Res2.npy')\n",
    "result_fm = np.load('fm_Res2.npy')\n",
    "result_pm = np.load('pm_Res2.npy')\n",
    "\n",
    "deriv_afm = np.load('afm_diff2.npy')\n",
    "deriv_fm = np.load('fm_diff2.npy')\n",
    "deriv_pm = np.load('pm_diff2.npy')"
   ]
  },
  {
   "cell_type": "code",
   "execution_count": null,
   "metadata": {
    "collapsed": true,
    "nbpresent": {
     "id": "fa02902d-6ad0-4017-bb65-690d3862558e"
    }
   },
   "outputs": [],
   "source": [
    "plt.figure()\n",
    "plt.plot([i[0] for i in result_afm], [i[3] for i in result_afm], 'r-',\\\n",
    "         [i[0] for i in result_fm], [i[3] for i in result_fm], 'g-',\\\n",
    "         [i[0] for i in result_pm], [i[2] for i in result_pm], 'b-')\n",
    "plt.show()"
   ]
  },
  {
   "cell_type": "code",
   "execution_count": null,
   "metadata": {
    "collapsed": true,
    "nbpresent": {
     "id": "b87f4db2-3b39-4452-8941-ac6188230075"
    }
   },
   "outputs": [],
   "source": [
    "mu_array = np.linspace(0.0, 5.0, 51, endpoint=True)\n",
    "plt.figure()\n",
    "#plt.plot(mu_array, -deriv_afm, 'r--')\n",
    "plt.grid()\n",
    "plt.plot(mu_array, -deriv_afm, 'r-',\\\n",
    "         mu_array, -deriv_fm, 'g-',\\\n",
    "         mu_array, -deriv_pm, 'b-')\n",
    "plt.xlim([0.0,5.0])\n",
    "plt.ylim([-0.5,1.0])\n",
    "#plt.axis([0, 0.5, -0.5, 1.0])\n",
    "plt.show()"
   ]
  },
  {
   "cell_type": "code",
   "execution_count": null,
   "metadata": {
    "collapsed": true,
    "nbpresent": {
     "id": "cb13963e-e968-4c87-a537-4226a5f8d3ab"
    }
   },
   "outputs": [],
   "source": []
  }
 ],
 "metadata": {
  "anaconda-cloud": {},
  "kernelspec": {
   "display_name": "Python 3",
   "language": "python",
   "name": "python3"
  },
  "language_info": {
   "codemirror_mode": {
    "name": "ipython",
    "version": 3
   },
   "file_extension": ".py",
   "mimetype": "text/x-python",
   "name": "python",
   "nbconvert_exporter": "python",
   "pygments_lexer": "ipython3",
   "version": "3.6.3"
  }
 },
 "nbformat": 4,
 "nbformat_minor": 1
}
